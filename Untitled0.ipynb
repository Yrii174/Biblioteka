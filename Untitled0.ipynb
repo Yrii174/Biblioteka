{
  "nbformat": 4,
  "nbformat_minor": 0,
  "metadata": {
    "colab": {
      "provenance": [],
      "authorship_tag": "ABX9TyMu/ZRgPaoFM18aXuP2TJ80",
      "include_colab_link": true
    },
    "kernelspec": {
      "name": "python3",
      "display_name": "Python 3"
    },
    "language_info": {
      "name": "python"
    }
  },
  "cells": [
    {
      "cell_type": "markdown",
      "metadata": {
        "id": "view-in-github",
        "colab_type": "text"
      },
      "source": [
        "<a href=\"https://colab.research.google.com/github/Yrii174/Biblioteka/blob/master/Untitled0.ipynb\" target=\"_parent\"><img src=\"https://colab.research.google.com/assets/colab-badge.svg\" alt=\"Open In Colab\"/></a>"
      ]
    },
    {
      "cell_type": "code",
      "execution_count": 153,
      "metadata": {
        "id": "FsK60Sq5yZEY"
      },
      "outputs": [],
      "source": [
        "import numpy as np"
      ]
    },
    {
      "cell_type": "code",
      "source": [
        "import scipy.stats as stats"
      ],
      "metadata": {
        "id": "m-LjMDVJ98ko"
      },
      "execution_count": 152,
      "outputs": []
    },
    {
      "cell_type": "code",
      "source": [
        "x1 = np.array([150, 160, 165, 145, 155])"
      ],
      "metadata": {
        "id": "y1cDKDf1z4IH"
      },
      "execution_count": 158,
      "outputs": []
    },
    {
      "cell_type": "code",
      "source": [
        "x2 = np.array([140, 155, 150,  130, 135])"
      ],
      "metadata": {
        "id": "S13-9WdaN6R8"
      },
      "execution_count": 159,
      "outputs": []
    },
    {
      "cell_type": "code",
      "source": [
        "x3 = np.array([130, 130, 120, 130, 125])"
      ],
      "metadata": {
        "id": "lJOEhJs2qvx6"
      },
      "execution_count": 160,
      "outputs": []
    },
    {
      "cell_type": "code",
      "source": [
        "stats.friedmanchisquare(x1,x2,x3)"
      ],
      "metadata": {
        "colab": {
          "base_uri": "https://localhost:8080/"
        },
        "id": "t9Vb1sdXgBQ3",
        "outputId": "33cd8cee-d7c3-4428-eb31-d7b2638a1a71"
      },
      "execution_count": 162,
      "outputs": [
        {
          "output_type": "execute_result",
          "data": {
            "text/plain": [
              "FriedmanchisquareResult(statistic=9.578947368421062, pvalue=0.00831683351100441)"
            ]
          },
          "metadata": {},
          "execution_count": 162
        }
      ]
    }
  ]
}