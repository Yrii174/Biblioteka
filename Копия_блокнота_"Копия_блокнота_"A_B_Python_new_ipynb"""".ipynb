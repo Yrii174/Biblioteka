{
  "cells": [
    {
      "cell_type": "markdown",
      "metadata": {
        "id": "view-in-github",
        "colab_type": "text"
      },
      "source": [
        "<a href=\"https://colab.research.google.com/github/Yrii174/Biblioteka/blob/master/%D0%9A%D0%BE%D0%BF%D0%B8%D1%8F_%D0%B1%D0%BB%D0%BE%D0%BA%D0%BD%D0%BE%D1%82%D0%B0_%22%D0%9A%D0%BE%D0%BF%D0%B8%D1%8F_%D0%B1%D0%BB%D0%BE%D0%BA%D0%BD%D0%BE%D1%82%D0%B0_%22A_B_Python_new_ipynb%22%22%22%22.ipynb\" target=\"_parent\"><img src=\"https://colab.research.google.com/assets/colab-badge.svg\" alt=\"Open In Colab\"/></a>"
      ]
    },
    {
      "cell_type": "markdown",
      "metadata": {
        "id": "P8x5TKkEiz3H"
      },
      "source": [
        "# A/B tests с Python\n",
        "\n"
      ]
    },
    {
      "cell_type": "markdown",
      "metadata": {
        "id": "3rFDZCpXiz3K"
      },
      "source": [
        "\n",
        "<a id=\"Libraries\"></a>\n",
        "##  Загрузка библиотек "
      ]
    },
    {
      "cell_type": "code",
      "execution_count": null,
      "metadata": {
        "id": "oqZPz9Bmiz3L"
      },
      "outputs": [],
      "source": [
        "from scipy.stats import ttest_1samp\n",
        "from scipy import stats\n",
        "import numpy as np\n",
        "\n",
        "import warnings\n",
        "warnings.filterwarnings('ignore')\n",
        "warnings.warn('DelftStack')\n",
        "warnings.warn('Do not show this message')\n",
        "\n"
      ]
    },
    {
      "cell_type": "code",
      "execution_count": null,
      "metadata": {
        "id": "squsMqBBiz3M"
      },
      "outputs": [],
      "source": [
        "import matplotlib.pyplot as plt\n",
        "import seaborn as sns\n",
        "import pandas as pd\n"
      ]
    },
    {
      "cell_type": "markdown",
      "metadata": {
        "id": "-IfQnur1iz3X"
      },
      "source": [
        "<a id=\"H0\"></a>\n",
        "\n",
        "##Тестирование гипотез"
      ]
    },
    {
      "cell_type": "markdown",
      "source": [
        "#Подготовка данных"
      ],
      "metadata": {
        "id": "oVKHHkxyMWzC"
      }
    },
    {
      "cell_type": "code",
      "source": [
        "#Подгружаем данные с гугл диска\n",
        "from google.colab import drive\n",
        "drive.mount('/content/drive')\n",
        "\n",
        "\n",
        "data = pd.read_excel('/content/AB_Test_Results.xlsx')\n",
        "\n",
        "data.head(10)"
      ],
      "metadata": {
        "id": "irWHhzcdvDKP",
        "colab": {
          "base_uri": "https://localhost:8080/",
          "height": 400
        },
        "outputId": "59630d2b-a795-479a-ddfc-6edebb0589fd"
      },
      "execution_count": null,
      "outputs": [
        {
          "output_type": "stream",
          "name": "stdout",
          "text": [
            "Drive already mounted at /content/drive; to attempt to forcibly remount, call drive.mount(\"/content/drive\", force_remount=True).\n"
          ]
        },
        {
          "output_type": "execute_result",
          "data": {
            "text/plain": [
              "   USER_ID VARIANT_NAME  REVENUE\n",
              "0      737      variant      0.0\n",
              "1     2423      control      0.0\n",
              "2     9411      control      0.0\n",
              "3     7311      control      0.0\n",
              "4     6174      variant      0.0\n",
              "5     2380      variant      0.0\n",
              "6     2849      control      0.0\n",
              "7     9168      control      0.0\n",
              "8     6205      variant      0.0\n",
              "9     7548      control      0.0"
            ],
            "text/html": [
              "\n",
              "  <div id=\"df-f782bc67-cbed-4a1e-82e7-2956211e9ea0\">\n",
              "    <div class=\"colab-df-container\">\n",
              "      <div>\n",
              "<style scoped>\n",
              "    .dataframe tbody tr th:only-of-type {\n",
              "        vertical-align: middle;\n",
              "    }\n",
              "\n",
              "    .dataframe tbody tr th {\n",
              "        vertical-align: top;\n",
              "    }\n",
              "\n",
              "    .dataframe thead th {\n",
              "        text-align: right;\n",
              "    }\n",
              "</style>\n",
              "<table border=\"1\" class=\"dataframe\">\n",
              "  <thead>\n",
              "    <tr style=\"text-align: right;\">\n",
              "      <th></th>\n",
              "      <th>USER_ID</th>\n",
              "      <th>VARIANT_NAME</th>\n",
              "      <th>REVENUE</th>\n",
              "    </tr>\n",
              "  </thead>\n",
              "  <tbody>\n",
              "    <tr>\n",
              "      <th>0</th>\n",
              "      <td>737</td>\n",
              "      <td>variant</td>\n",
              "      <td>0.0</td>\n",
              "    </tr>\n",
              "    <tr>\n",
              "      <th>1</th>\n",
              "      <td>2423</td>\n",
              "      <td>control</td>\n",
              "      <td>0.0</td>\n",
              "    </tr>\n",
              "    <tr>\n",
              "      <th>2</th>\n",
              "      <td>9411</td>\n",
              "      <td>control</td>\n",
              "      <td>0.0</td>\n",
              "    </tr>\n",
              "    <tr>\n",
              "      <th>3</th>\n",
              "      <td>7311</td>\n",
              "      <td>control</td>\n",
              "      <td>0.0</td>\n",
              "    </tr>\n",
              "    <tr>\n",
              "      <th>4</th>\n",
              "      <td>6174</td>\n",
              "      <td>variant</td>\n",
              "      <td>0.0</td>\n",
              "    </tr>\n",
              "    <tr>\n",
              "      <th>5</th>\n",
              "      <td>2380</td>\n",
              "      <td>variant</td>\n",
              "      <td>0.0</td>\n",
              "    </tr>\n",
              "    <tr>\n",
              "      <th>6</th>\n",
              "      <td>2849</td>\n",
              "      <td>control</td>\n",
              "      <td>0.0</td>\n",
              "    </tr>\n",
              "    <tr>\n",
              "      <th>7</th>\n",
              "      <td>9168</td>\n",
              "      <td>control</td>\n",
              "      <td>0.0</td>\n",
              "    </tr>\n",
              "    <tr>\n",
              "      <th>8</th>\n",
              "      <td>6205</td>\n",
              "      <td>variant</td>\n",
              "      <td>0.0</td>\n",
              "    </tr>\n",
              "    <tr>\n",
              "      <th>9</th>\n",
              "      <td>7548</td>\n",
              "      <td>control</td>\n",
              "      <td>0.0</td>\n",
              "    </tr>\n",
              "  </tbody>\n",
              "</table>\n",
              "</div>\n",
              "      <button class=\"colab-df-convert\" onclick=\"convertToInteractive('df-f782bc67-cbed-4a1e-82e7-2956211e9ea0')\"\n",
              "              title=\"Convert this dataframe to an interactive table.\"\n",
              "              style=\"display:none;\">\n",
              "        \n",
              "  <svg xmlns=\"http://www.w3.org/2000/svg\" height=\"24px\"viewBox=\"0 0 24 24\"\n",
              "       width=\"24px\">\n",
              "    <path d=\"M0 0h24v24H0V0z\" fill=\"none\"/>\n",
              "    <path d=\"M18.56 5.44l.94 2.06.94-2.06 2.06-.94-2.06-.94-.94-2.06-.94 2.06-2.06.94zm-11 1L8.5 8.5l.94-2.06 2.06-.94-2.06-.94L8.5 2.5l-.94 2.06-2.06.94zm10 10l.94 2.06.94-2.06 2.06-.94-2.06-.94-.94-2.06-.94 2.06-2.06.94z\"/><path d=\"M17.41 7.96l-1.37-1.37c-.4-.4-.92-.59-1.43-.59-.52 0-1.04.2-1.43.59L10.3 9.45l-7.72 7.72c-.78.78-.78 2.05 0 2.83L4 21.41c.39.39.9.59 1.41.59.51 0 1.02-.2 1.41-.59l7.78-7.78 2.81-2.81c.8-.78.8-2.07 0-2.86zM5.41 20L4 18.59l7.72-7.72 1.47 1.35L5.41 20z\"/>\n",
              "  </svg>\n",
              "      </button>\n",
              "      \n",
              "  <style>\n",
              "    .colab-df-container {\n",
              "      display:flex;\n",
              "      flex-wrap:wrap;\n",
              "      gap: 12px;\n",
              "    }\n",
              "\n",
              "    .colab-df-convert {\n",
              "      background-color: #E8F0FE;\n",
              "      border: none;\n",
              "      border-radius: 50%;\n",
              "      cursor: pointer;\n",
              "      display: none;\n",
              "      fill: #1967D2;\n",
              "      height: 32px;\n",
              "      padding: 0 0 0 0;\n",
              "      width: 32px;\n",
              "    }\n",
              "\n",
              "    .colab-df-convert:hover {\n",
              "      background-color: #E2EBFA;\n",
              "      box-shadow: 0px 1px 2px rgba(60, 64, 67, 0.3), 0px 1px 3px 1px rgba(60, 64, 67, 0.15);\n",
              "      fill: #174EA6;\n",
              "    }\n",
              "\n",
              "    [theme=dark] .colab-df-convert {\n",
              "      background-color: #3B4455;\n",
              "      fill: #D2E3FC;\n",
              "    }\n",
              "\n",
              "    [theme=dark] .colab-df-convert:hover {\n",
              "      background-color: #434B5C;\n",
              "      box-shadow: 0px 1px 3px 1px rgba(0, 0, 0, 0.15);\n",
              "      filter: drop-shadow(0px 1px 2px rgba(0, 0, 0, 0.3));\n",
              "      fill: #FFFFFF;\n",
              "    }\n",
              "  </style>\n",
              "\n",
              "      <script>\n",
              "        const buttonEl =\n",
              "          document.querySelector('#df-f782bc67-cbed-4a1e-82e7-2956211e9ea0 button.colab-df-convert');\n",
              "        buttonEl.style.display =\n",
              "          google.colab.kernel.accessAllowed ? 'block' : 'none';\n",
              "\n",
              "        async function convertToInteractive(key) {\n",
              "          const element = document.querySelector('#df-f782bc67-cbed-4a1e-82e7-2956211e9ea0');\n",
              "          const dataTable =\n",
              "            await google.colab.kernel.invokeFunction('convertToInteractive',\n",
              "                                                     [key], {});\n",
              "          if (!dataTable) return;\n",
              "\n",
              "          const docLinkHtml = 'Like what you see? Visit the ' +\n",
              "            '<a target=\"_blank\" href=https://colab.research.google.com/notebooks/data_table.ipynb>data table notebook</a>'\n",
              "            + ' to learn more about interactive tables.';\n",
              "          element.innerHTML = '';\n",
              "          dataTable['output_type'] = 'display_data';\n",
              "          await google.colab.output.renderOutput(dataTable, element);\n",
              "          const docLink = document.createElement('div');\n",
              "          docLink.innerHTML = docLinkHtml;\n",
              "          element.appendChild(docLink);\n",
              "        }\n",
              "      </script>\n",
              "    </div>\n",
              "  </div>\n",
              "  "
            ]
          },
          "metadata": {},
          "execution_count": 121
        }
      ]
    },
    {
      "cell_type": "code",
      "source": [
        "from google.colab import drive\n",
        "drive.mount('/content/drive')"
      ],
      "metadata": {
        "colab": {
          "base_uri": "https://localhost:8080/"
        },
        "id": "ovWY43tM-aIO",
        "outputId": "8795f0b9-8509-48a0-c714-b7dd24e918fa"
      },
      "execution_count": null,
      "outputs": [
        {
          "output_type": "stream",
          "name": "stdout",
          "text": [
            "Drive already mounted at /content/drive; to attempt to forcibly remount, call drive.mount(\"/content/drive\", force_remount=True).\n"
          ]
        }
      ]
    },
    {
      "cell_type": "code",
      "source": [
        "data.info()"
      ],
      "metadata": {
        "colab": {
          "base_uri": "https://localhost:8080/"
        },
        "id": "I8xrSR3sMdfW",
        "outputId": "98a82231-54d4-4cfd-9541-17cb8844c892"
      },
      "execution_count": null,
      "outputs": [
        {
          "output_type": "stream",
          "name": "stdout",
          "text": [
            "<class 'pandas.core.frame.DataFrame'>\n",
            "RangeIndex: 10000 entries, 0 to 9999\n",
            "Data columns (total 3 columns):\n",
            " #   Column        Non-Null Count  Dtype  \n",
            "---  ------        --------------  -----  \n",
            " 0   USER_ID       10000 non-null  int64  \n",
            " 1   VARIANT_NAME  10000 non-null  object \n",
            " 2   REVENUE       10000 non-null  float64\n",
            "dtypes: float64(1), int64(1), object(1)\n",
            "memory usage: 234.5+ KB\n"
          ]
        }
      ]
    },
    {
      "cell_type": "code",
      "source": [
        "data.shape"
      ],
      "metadata": {
        "colab": {
          "base_uri": "https://localhost:8080/"
        },
        "id": "l5-MmmPWp5XO",
        "outputId": "a49096b4-2008-4430-8c51-c1815c68fba6"
      },
      "execution_count": null,
      "outputs": [
        {
          "output_type": "execute_result",
          "data": {
            "text/plain": [
              "(10000, 3)"
            ]
          },
          "metadata": {},
          "execution_count": 124
        }
      ]
    },
    {
      "cell_type": "code",
      "source": [
        "data.describe()"
      ],
      "metadata": {
        "colab": {
          "base_uri": "https://localhost:8080/",
          "height": 300
        },
        "id": "_zTWERpHMdiS",
        "outputId": "59390a11-0cb1-47b4-8ea4-71d78e6d448a"
      },
      "execution_count": null,
      "outputs": [
        {
          "output_type": "execute_result",
          "data": {
            "text/plain": [
              "            USER_ID       REVENUE\n",
              "count  10000.000000  10000.000000\n",
              "mean    4981.080200      0.099447\n",
              "std     2890.590115      2.318529\n",
              "min        2.000000      0.000000\n",
              "25%     2468.750000      0.000000\n",
              "50%     4962.000000      0.000000\n",
              "75%     7511.500000      0.000000\n",
              "max    10000.000000    196.010000"
            ],
            "text/html": [
              "\n",
              "  <div id=\"df-5b59b1bf-483d-4ae2-b732-cd7149df1934\">\n",
              "    <div class=\"colab-df-container\">\n",
              "      <div>\n",
              "<style scoped>\n",
              "    .dataframe tbody tr th:only-of-type {\n",
              "        vertical-align: middle;\n",
              "    }\n",
              "\n",
              "    .dataframe tbody tr th {\n",
              "        vertical-align: top;\n",
              "    }\n",
              "\n",
              "    .dataframe thead th {\n",
              "        text-align: right;\n",
              "    }\n",
              "</style>\n",
              "<table border=\"1\" class=\"dataframe\">\n",
              "  <thead>\n",
              "    <tr style=\"text-align: right;\">\n",
              "      <th></th>\n",
              "      <th>USER_ID</th>\n",
              "      <th>REVENUE</th>\n",
              "    </tr>\n",
              "  </thead>\n",
              "  <tbody>\n",
              "    <tr>\n",
              "      <th>count</th>\n",
              "      <td>10000.000000</td>\n",
              "      <td>10000.000000</td>\n",
              "    </tr>\n",
              "    <tr>\n",
              "      <th>mean</th>\n",
              "      <td>4981.080200</td>\n",
              "      <td>0.099447</td>\n",
              "    </tr>\n",
              "    <tr>\n",
              "      <th>std</th>\n",
              "      <td>2890.590115</td>\n",
              "      <td>2.318529</td>\n",
              "    </tr>\n",
              "    <tr>\n",
              "      <th>min</th>\n",
              "      <td>2.000000</td>\n",
              "      <td>0.000000</td>\n",
              "    </tr>\n",
              "    <tr>\n",
              "      <th>25%</th>\n",
              "      <td>2468.750000</td>\n",
              "      <td>0.000000</td>\n",
              "    </tr>\n",
              "    <tr>\n",
              "      <th>50%</th>\n",
              "      <td>4962.000000</td>\n",
              "      <td>0.000000</td>\n",
              "    </tr>\n",
              "    <tr>\n",
              "      <th>75%</th>\n",
              "      <td>7511.500000</td>\n",
              "      <td>0.000000</td>\n",
              "    </tr>\n",
              "    <tr>\n",
              "      <th>max</th>\n",
              "      <td>10000.000000</td>\n",
              "      <td>196.010000</td>\n",
              "    </tr>\n",
              "  </tbody>\n",
              "</table>\n",
              "</div>\n",
              "      <button class=\"colab-df-convert\" onclick=\"convertToInteractive('df-5b59b1bf-483d-4ae2-b732-cd7149df1934')\"\n",
              "              title=\"Convert this dataframe to an interactive table.\"\n",
              "              style=\"display:none;\">\n",
              "        \n",
              "  <svg xmlns=\"http://www.w3.org/2000/svg\" height=\"24px\"viewBox=\"0 0 24 24\"\n",
              "       width=\"24px\">\n",
              "    <path d=\"M0 0h24v24H0V0z\" fill=\"none\"/>\n",
              "    <path d=\"M18.56 5.44l.94 2.06.94-2.06 2.06-.94-2.06-.94-.94-2.06-.94 2.06-2.06.94zm-11 1L8.5 8.5l.94-2.06 2.06-.94-2.06-.94L8.5 2.5l-.94 2.06-2.06.94zm10 10l.94 2.06.94-2.06 2.06-.94-2.06-.94-.94-2.06-.94 2.06-2.06.94z\"/><path d=\"M17.41 7.96l-1.37-1.37c-.4-.4-.92-.59-1.43-.59-.52 0-1.04.2-1.43.59L10.3 9.45l-7.72 7.72c-.78.78-.78 2.05 0 2.83L4 21.41c.39.39.9.59 1.41.59.51 0 1.02-.2 1.41-.59l7.78-7.78 2.81-2.81c.8-.78.8-2.07 0-2.86zM5.41 20L4 18.59l7.72-7.72 1.47 1.35L5.41 20z\"/>\n",
              "  </svg>\n",
              "      </button>\n",
              "      \n",
              "  <style>\n",
              "    .colab-df-container {\n",
              "      display:flex;\n",
              "      flex-wrap:wrap;\n",
              "      gap: 12px;\n",
              "    }\n",
              "\n",
              "    .colab-df-convert {\n",
              "      background-color: #E8F0FE;\n",
              "      border: none;\n",
              "      border-radius: 50%;\n",
              "      cursor: pointer;\n",
              "      display: none;\n",
              "      fill: #1967D2;\n",
              "      height: 32px;\n",
              "      padding: 0 0 0 0;\n",
              "      width: 32px;\n",
              "    }\n",
              "\n",
              "    .colab-df-convert:hover {\n",
              "      background-color: #E2EBFA;\n",
              "      box-shadow: 0px 1px 2px rgba(60, 64, 67, 0.3), 0px 1px 3px 1px rgba(60, 64, 67, 0.15);\n",
              "      fill: #174EA6;\n",
              "    }\n",
              "\n",
              "    [theme=dark] .colab-df-convert {\n",
              "      background-color: #3B4455;\n",
              "      fill: #D2E3FC;\n",
              "    }\n",
              "\n",
              "    [theme=dark] .colab-df-convert:hover {\n",
              "      background-color: #434B5C;\n",
              "      box-shadow: 0px 1px 3px 1px rgba(0, 0, 0, 0.15);\n",
              "      filter: drop-shadow(0px 1px 2px rgba(0, 0, 0, 0.3));\n",
              "      fill: #FFFFFF;\n",
              "    }\n",
              "  </style>\n",
              "\n",
              "      <script>\n",
              "        const buttonEl =\n",
              "          document.querySelector('#df-5b59b1bf-483d-4ae2-b732-cd7149df1934 button.colab-df-convert');\n",
              "        buttonEl.style.display =\n",
              "          google.colab.kernel.accessAllowed ? 'block' : 'none';\n",
              "\n",
              "        async function convertToInteractive(key) {\n",
              "          const element = document.querySelector('#df-5b59b1bf-483d-4ae2-b732-cd7149df1934');\n",
              "          const dataTable =\n",
              "            await google.colab.kernel.invokeFunction('convertToInteractive',\n",
              "                                                     [key], {});\n",
              "          if (!dataTable) return;\n",
              "\n",
              "          const docLinkHtml = 'Like what you see? Visit the ' +\n",
              "            '<a target=\"_blank\" href=https://colab.research.google.com/notebooks/data_table.ipynb>data table notebook</a>'\n",
              "            + ' to learn more about interactive tables.';\n",
              "          element.innerHTML = '';\n",
              "          dataTable['output_type'] = 'display_data';\n",
              "          await google.colab.output.renderOutput(dataTable, element);\n",
              "          const docLink = document.createElement('div');\n",
              "          docLink.innerHTML = docLinkHtml;\n",
              "          element.appendChild(docLink);\n",
              "        }\n",
              "      </script>\n",
              "    </div>\n",
              "  </div>\n",
              "  "
            ]
          },
          "metadata": {},
          "execution_count": 125
        }
      ]
    },
    {
      "cell_type": "code",
      "source": [
        "data.isna().sum()"
      ],
      "metadata": {
        "id": "uGaR4U0hMd2u",
        "colab": {
          "base_uri": "https://localhost:8080/"
        },
        "outputId": "960fb728-818f-41fd-993f-b83f3f26ad8b"
      },
      "execution_count": null,
      "outputs": [
        {
          "output_type": "execute_result",
          "data": {
            "text/plain": [
              "USER_ID         0\n",
              "VARIANT_NAME    0\n",
              "REVENUE         0\n",
              "dtype: int64"
            ]
          },
          "metadata": {},
          "execution_count": 130
        }
      ]
    },
    {
      "cell_type": "code",
      "source": [
        "data.ab_group.value_counts()"
      ],
      "metadata": {
        "colab": {
          "base_uri": "https://localhost:8080/",
          "height": 287
        },
        "id": "7FeOO7zfqKlo",
        "outputId": "ab7ed60f-0af8-4391-c3aa-007979f83f3d"
      },
      "execution_count": null,
      "outputs": [
        {
          "output_type": "error",
          "ename": "AttributeError",
          "evalue": "ignored",
          "traceback": [
            "\u001b[0;31m---------------------------------------------------------------------------\u001b[0m",
            "\u001b[0;31mAttributeError\u001b[0m                            Traceback (most recent call last)",
            "\u001b[0;32m<ipython-input-141-b67cba654fc8>\u001b[0m in \u001b[0;36m<module>\u001b[0;34m\u001b[0m\n\u001b[0;32m----> 1\u001b[0;31m \u001b[0mdata\u001b[0m\u001b[0;34m.\u001b[0m\u001b[0mab_group\u001b[0m\u001b[0;34m.\u001b[0m\u001b[0mvalue_counts\u001b[0m\u001b[0;34m(\u001b[0m\u001b[0;34m)\u001b[0m\u001b[0;34m\u001b[0m\u001b[0;34m\u001b[0m\u001b[0m\n\u001b[0m",
            "\u001b[0;32m/usr/local/lib/python3.8/dist-packages/pandas/core/generic.py\u001b[0m in \u001b[0;36m__getattr__\u001b[0;34m(self, name)\u001b[0m\n\u001b[1;32m   5485\u001b[0m         ):\n\u001b[1;32m   5486\u001b[0m             \u001b[0;32mreturn\u001b[0m \u001b[0mself\u001b[0m\u001b[0;34m[\u001b[0m\u001b[0mname\u001b[0m\u001b[0;34m]\u001b[0m\u001b[0;34m\u001b[0m\u001b[0;34m\u001b[0m\u001b[0m\n\u001b[0;32m-> 5487\u001b[0;31m         \u001b[0;32mreturn\u001b[0m \u001b[0mobject\u001b[0m\u001b[0;34m.\u001b[0m\u001b[0m__getattribute__\u001b[0m\u001b[0;34m(\u001b[0m\u001b[0mself\u001b[0m\u001b[0;34m,\u001b[0m \u001b[0mname\u001b[0m\u001b[0;34m)\u001b[0m\u001b[0;34m\u001b[0m\u001b[0;34m\u001b[0m\u001b[0m\n\u001b[0m\u001b[1;32m   5488\u001b[0m \u001b[0;34m\u001b[0m\u001b[0m\n\u001b[1;32m   5489\u001b[0m     \u001b[0;32mdef\u001b[0m \u001b[0m__setattr__\u001b[0m\u001b[0;34m(\u001b[0m\u001b[0mself\u001b[0m\u001b[0;34m,\u001b[0m \u001b[0mname\u001b[0m\u001b[0;34m:\u001b[0m \u001b[0mstr\u001b[0m\u001b[0;34m,\u001b[0m \u001b[0mvalue\u001b[0m\u001b[0;34m)\u001b[0m \u001b[0;34m->\u001b[0m \u001b[0;32mNone\u001b[0m\u001b[0;34m:\u001b[0m\u001b[0;34m\u001b[0m\u001b[0;34m\u001b[0m\u001b[0m\n",
            "\u001b[0;31mAttributeError\u001b[0m: 'DataFrame' object has no attribute 'ab_group'"
          ]
        }
      ]
    },
    {
      "cell_type": "code",
      "source": [],
      "metadata": {
        "id": "TnQE5jf5qK0Y"
      },
      "execution_count": null,
      "outputs": []
    },
    {
      "cell_type": "code",
      "source": [
        "data[data['revenue']>0]"
      ],
      "metadata": {
        "colab": {
          "base_uri": "https://localhost:8080/",
          "height": 502
        },
        "id": "RNc3LMwPvDOx",
        "outputId": "2251ebe9-1801-4824-d709-9d9c4a4fdb94"
      },
      "execution_count": null,
      "outputs": [
        {
          "output_type": "error",
          "ename": "KeyError",
          "evalue": "ignored",
          "traceback": [
            "\u001b[0;31m---------------------------------------------------------------------------\u001b[0m",
            "\u001b[0;31mKeyError\u001b[0m                                  Traceback (most recent call last)",
            "\u001b[0;32m/usr/local/lib/python3.8/dist-packages/pandas/core/indexes/base.py\u001b[0m in \u001b[0;36mget_loc\u001b[0;34m(self, key, method, tolerance)\u001b[0m\n\u001b[1;32m   3360\u001b[0m             \u001b[0;32mtry\u001b[0m\u001b[0;34m:\u001b[0m\u001b[0;34m\u001b[0m\u001b[0;34m\u001b[0m\u001b[0m\n\u001b[0;32m-> 3361\u001b[0;31m                 \u001b[0;32mreturn\u001b[0m \u001b[0mself\u001b[0m\u001b[0;34m.\u001b[0m\u001b[0m_engine\u001b[0m\u001b[0;34m.\u001b[0m\u001b[0mget_loc\u001b[0m\u001b[0;34m(\u001b[0m\u001b[0mcasted_key\u001b[0m\u001b[0;34m)\u001b[0m\u001b[0;34m\u001b[0m\u001b[0;34m\u001b[0m\u001b[0m\n\u001b[0m\u001b[1;32m   3362\u001b[0m             \u001b[0;32mexcept\u001b[0m \u001b[0mKeyError\u001b[0m \u001b[0;32mas\u001b[0m \u001b[0merr\u001b[0m\u001b[0;34m:\u001b[0m\u001b[0;34m\u001b[0m\u001b[0;34m\u001b[0m\u001b[0m\n",
            "\u001b[0;32m/usr/local/lib/python3.8/dist-packages/pandas/_libs/index.pyx\u001b[0m in \u001b[0;36mpandas._libs.index.IndexEngine.get_loc\u001b[0;34m()\u001b[0m\n",
            "\u001b[0;32m/usr/local/lib/python3.8/dist-packages/pandas/_libs/index.pyx\u001b[0m in \u001b[0;36mpandas._libs.index.IndexEngine.get_loc\u001b[0;34m()\u001b[0m\n",
            "\u001b[0;32mpandas/_libs/hashtable_class_helper.pxi\u001b[0m in \u001b[0;36mpandas._libs.hashtable.PyObjectHashTable.get_item\u001b[0;34m()\u001b[0m\n",
            "\u001b[0;32mpandas/_libs/hashtable_class_helper.pxi\u001b[0m in \u001b[0;36mpandas._libs.hashtable.PyObjectHashTable.get_item\u001b[0;34m()\u001b[0m\n",
            "\u001b[0;31mKeyError\u001b[0m: 'revenue'",
            "\nThe above exception was the direct cause of the following exception:\n",
            "\u001b[0;31mKeyError\u001b[0m                                  Traceback (most recent call last)",
            "\u001b[0;32m<ipython-input-132-0eea7310f0ba>\u001b[0m in \u001b[0;36m<module>\u001b[0;34m\u001b[0m\n\u001b[0;32m----> 1\u001b[0;31m \u001b[0mdata\u001b[0m\u001b[0;34m[\u001b[0m\u001b[0mdata\u001b[0m\u001b[0;34m[\u001b[0m\u001b[0;34m'revenue'\u001b[0m\u001b[0;34m]\u001b[0m\u001b[0;34m>\u001b[0m\u001b[0;36m0\u001b[0m\u001b[0;34m]\u001b[0m\u001b[0;34m\u001b[0m\u001b[0;34m\u001b[0m\u001b[0m\n\u001b[0m",
            "\u001b[0;32m/usr/local/lib/python3.8/dist-packages/pandas/core/frame.py\u001b[0m in \u001b[0;36m__getitem__\u001b[0;34m(self, key)\u001b[0m\n\u001b[1;32m   3456\u001b[0m             \u001b[0;32mif\u001b[0m \u001b[0mself\u001b[0m\u001b[0;34m.\u001b[0m\u001b[0mcolumns\u001b[0m\u001b[0;34m.\u001b[0m\u001b[0mnlevels\u001b[0m \u001b[0;34m>\u001b[0m \u001b[0;36m1\u001b[0m\u001b[0;34m:\u001b[0m\u001b[0;34m\u001b[0m\u001b[0;34m\u001b[0m\u001b[0m\n\u001b[1;32m   3457\u001b[0m                 \u001b[0;32mreturn\u001b[0m \u001b[0mself\u001b[0m\u001b[0;34m.\u001b[0m\u001b[0m_getitem_multilevel\u001b[0m\u001b[0;34m(\u001b[0m\u001b[0mkey\u001b[0m\u001b[0;34m)\u001b[0m\u001b[0;34m\u001b[0m\u001b[0;34m\u001b[0m\u001b[0m\n\u001b[0;32m-> 3458\u001b[0;31m             \u001b[0mindexer\u001b[0m \u001b[0;34m=\u001b[0m \u001b[0mself\u001b[0m\u001b[0;34m.\u001b[0m\u001b[0mcolumns\u001b[0m\u001b[0;34m.\u001b[0m\u001b[0mget_loc\u001b[0m\u001b[0;34m(\u001b[0m\u001b[0mkey\u001b[0m\u001b[0;34m)\u001b[0m\u001b[0;34m\u001b[0m\u001b[0;34m\u001b[0m\u001b[0m\n\u001b[0m\u001b[1;32m   3459\u001b[0m             \u001b[0;32mif\u001b[0m \u001b[0mis_integer\u001b[0m\u001b[0;34m(\u001b[0m\u001b[0mindexer\u001b[0m\u001b[0;34m)\u001b[0m\u001b[0;34m:\u001b[0m\u001b[0;34m\u001b[0m\u001b[0;34m\u001b[0m\u001b[0m\n\u001b[1;32m   3460\u001b[0m                 \u001b[0mindexer\u001b[0m \u001b[0;34m=\u001b[0m \u001b[0;34m[\u001b[0m\u001b[0mindexer\u001b[0m\u001b[0;34m]\u001b[0m\u001b[0;34m\u001b[0m\u001b[0;34m\u001b[0m\u001b[0m\n",
            "\u001b[0;32m/usr/local/lib/python3.8/dist-packages/pandas/core/indexes/base.py\u001b[0m in \u001b[0;36mget_loc\u001b[0;34m(self, key, method, tolerance)\u001b[0m\n\u001b[1;32m   3361\u001b[0m                 \u001b[0;32mreturn\u001b[0m \u001b[0mself\u001b[0m\u001b[0;34m.\u001b[0m\u001b[0m_engine\u001b[0m\u001b[0;34m.\u001b[0m\u001b[0mget_loc\u001b[0m\u001b[0;34m(\u001b[0m\u001b[0mcasted_key\u001b[0m\u001b[0;34m)\u001b[0m\u001b[0;34m\u001b[0m\u001b[0;34m\u001b[0m\u001b[0m\n\u001b[1;32m   3362\u001b[0m             \u001b[0;32mexcept\u001b[0m \u001b[0mKeyError\u001b[0m \u001b[0;32mas\u001b[0m \u001b[0merr\u001b[0m\u001b[0;34m:\u001b[0m\u001b[0;34m\u001b[0m\u001b[0;34m\u001b[0m\u001b[0m\n\u001b[0;32m-> 3363\u001b[0;31m                 \u001b[0;32mraise\u001b[0m \u001b[0mKeyError\u001b[0m\u001b[0;34m(\u001b[0m\u001b[0mkey\u001b[0m\u001b[0;34m)\u001b[0m \u001b[0;32mfrom\u001b[0m \u001b[0merr\u001b[0m\u001b[0;34m\u001b[0m\u001b[0;34m\u001b[0m\u001b[0m\n\u001b[0m\u001b[1;32m   3364\u001b[0m \u001b[0;34m\u001b[0m\u001b[0m\n\u001b[1;32m   3365\u001b[0m         \u001b[0;32mif\u001b[0m \u001b[0mis_scalar\u001b[0m\u001b[0;34m(\u001b[0m\u001b[0mkey\u001b[0m\u001b[0;34m)\u001b[0m \u001b[0;32mand\u001b[0m \u001b[0misna\u001b[0m\u001b[0;34m(\u001b[0m\u001b[0mkey\u001b[0m\u001b[0;34m)\u001b[0m \u001b[0;32mand\u001b[0m \u001b[0;32mnot\u001b[0m \u001b[0mself\u001b[0m\u001b[0;34m.\u001b[0m\u001b[0mhasnans\u001b[0m\u001b[0;34m:\u001b[0m\u001b[0;34m\u001b[0m\u001b[0;34m\u001b[0m\u001b[0m\n",
            "\u001b[0;31mKeyError\u001b[0m: 'revenue'"
          ]
        }
      ]
    },
    {
      "cell_type": "markdown",
      "source": [
        "Посмотрим на группы отдельно"
      ],
      "metadata": {
        "id": "QKQUi9a3w-bO"
      }
    },
    {
      "cell_type": "code",
      "source": [
        "data[data['ab_group']=='A'].describe()"
      ],
      "metadata": {
        "colab": {
          "base_uri": "https://localhost:8080/",
          "height": 502
        },
        "id": "XXmqrLLGvM2Q",
        "outputId": "2df667a2-5981-4a9c-b0b5-3aaa6eb1231a"
      },
      "execution_count": null,
      "outputs": [
        {
          "output_type": "error",
          "ename": "KeyError",
          "evalue": "ignored",
          "traceback": [
            "\u001b[0;31m---------------------------------------------------------------------------\u001b[0m",
            "\u001b[0;31mKeyError\u001b[0m                                  Traceback (most recent call last)",
            "\u001b[0;32m/usr/local/lib/python3.8/dist-packages/pandas/core/indexes/base.py\u001b[0m in \u001b[0;36mget_loc\u001b[0;34m(self, key, method, tolerance)\u001b[0m\n\u001b[1;32m   3360\u001b[0m             \u001b[0;32mtry\u001b[0m\u001b[0;34m:\u001b[0m\u001b[0;34m\u001b[0m\u001b[0;34m\u001b[0m\u001b[0m\n\u001b[0;32m-> 3361\u001b[0;31m                 \u001b[0;32mreturn\u001b[0m \u001b[0mself\u001b[0m\u001b[0;34m.\u001b[0m\u001b[0m_engine\u001b[0m\u001b[0;34m.\u001b[0m\u001b[0mget_loc\u001b[0m\u001b[0;34m(\u001b[0m\u001b[0mcasted_key\u001b[0m\u001b[0;34m)\u001b[0m\u001b[0;34m\u001b[0m\u001b[0;34m\u001b[0m\u001b[0m\n\u001b[0m\u001b[1;32m   3362\u001b[0m             \u001b[0;32mexcept\u001b[0m \u001b[0mKeyError\u001b[0m \u001b[0;32mas\u001b[0m \u001b[0merr\u001b[0m\u001b[0;34m:\u001b[0m\u001b[0;34m\u001b[0m\u001b[0;34m\u001b[0m\u001b[0m\n",
            "\u001b[0;32m/usr/local/lib/python3.8/dist-packages/pandas/_libs/index.pyx\u001b[0m in \u001b[0;36mpandas._libs.index.IndexEngine.get_loc\u001b[0;34m()\u001b[0m\n",
            "\u001b[0;32m/usr/local/lib/python3.8/dist-packages/pandas/_libs/index.pyx\u001b[0m in \u001b[0;36mpandas._libs.index.IndexEngine.get_loc\u001b[0;34m()\u001b[0m\n",
            "\u001b[0;32mpandas/_libs/hashtable_class_helper.pxi\u001b[0m in \u001b[0;36mpandas._libs.hashtable.PyObjectHashTable.get_item\u001b[0;34m()\u001b[0m\n",
            "\u001b[0;32mpandas/_libs/hashtable_class_helper.pxi\u001b[0m in \u001b[0;36mpandas._libs.hashtable.PyObjectHashTable.get_item\u001b[0;34m()\u001b[0m\n",
            "\u001b[0;31mKeyError\u001b[0m: 'ab_group'",
            "\nThe above exception was the direct cause of the following exception:\n",
            "\u001b[0;31mKeyError\u001b[0m                                  Traceback (most recent call last)",
            "\u001b[0;32m<ipython-input-133-7deb5243d5d0>\u001b[0m in \u001b[0;36m<module>\u001b[0;34m\u001b[0m\n\u001b[0;32m----> 1\u001b[0;31m \u001b[0mdata\u001b[0m\u001b[0;34m[\u001b[0m\u001b[0mdata\u001b[0m\u001b[0;34m[\u001b[0m\u001b[0;34m'ab_group'\u001b[0m\u001b[0;34m]\u001b[0m\u001b[0;34m==\u001b[0m\u001b[0;34m'A'\u001b[0m\u001b[0;34m]\u001b[0m\u001b[0;34m.\u001b[0m\u001b[0mdescribe\u001b[0m\u001b[0;34m(\u001b[0m\u001b[0;34m)\u001b[0m\u001b[0;34m\u001b[0m\u001b[0;34m\u001b[0m\u001b[0m\n\u001b[0m",
            "\u001b[0;32m/usr/local/lib/python3.8/dist-packages/pandas/core/frame.py\u001b[0m in \u001b[0;36m__getitem__\u001b[0;34m(self, key)\u001b[0m\n\u001b[1;32m   3456\u001b[0m             \u001b[0;32mif\u001b[0m \u001b[0mself\u001b[0m\u001b[0;34m.\u001b[0m\u001b[0mcolumns\u001b[0m\u001b[0;34m.\u001b[0m\u001b[0mnlevels\u001b[0m \u001b[0;34m>\u001b[0m \u001b[0;36m1\u001b[0m\u001b[0;34m:\u001b[0m\u001b[0;34m\u001b[0m\u001b[0;34m\u001b[0m\u001b[0m\n\u001b[1;32m   3457\u001b[0m                 \u001b[0;32mreturn\u001b[0m \u001b[0mself\u001b[0m\u001b[0;34m.\u001b[0m\u001b[0m_getitem_multilevel\u001b[0m\u001b[0;34m(\u001b[0m\u001b[0mkey\u001b[0m\u001b[0;34m)\u001b[0m\u001b[0;34m\u001b[0m\u001b[0;34m\u001b[0m\u001b[0m\n\u001b[0;32m-> 3458\u001b[0;31m             \u001b[0mindexer\u001b[0m \u001b[0;34m=\u001b[0m \u001b[0mself\u001b[0m\u001b[0;34m.\u001b[0m\u001b[0mcolumns\u001b[0m\u001b[0;34m.\u001b[0m\u001b[0mget_loc\u001b[0m\u001b[0;34m(\u001b[0m\u001b[0mkey\u001b[0m\u001b[0;34m)\u001b[0m\u001b[0;34m\u001b[0m\u001b[0;34m\u001b[0m\u001b[0m\n\u001b[0m\u001b[1;32m   3459\u001b[0m             \u001b[0;32mif\u001b[0m \u001b[0mis_integer\u001b[0m\u001b[0;34m(\u001b[0m\u001b[0mindexer\u001b[0m\u001b[0;34m)\u001b[0m\u001b[0;34m:\u001b[0m\u001b[0;34m\u001b[0m\u001b[0;34m\u001b[0m\u001b[0m\n\u001b[1;32m   3460\u001b[0m                 \u001b[0mindexer\u001b[0m \u001b[0;34m=\u001b[0m \u001b[0;34m[\u001b[0m\u001b[0mindexer\u001b[0m\u001b[0;34m]\u001b[0m\u001b[0;34m\u001b[0m\u001b[0;34m\u001b[0m\u001b[0m\n",
            "\u001b[0;32m/usr/local/lib/python3.8/dist-packages/pandas/core/indexes/base.py\u001b[0m in \u001b[0;36mget_loc\u001b[0;34m(self, key, method, tolerance)\u001b[0m\n\u001b[1;32m   3361\u001b[0m                 \u001b[0;32mreturn\u001b[0m \u001b[0mself\u001b[0m\u001b[0;34m.\u001b[0m\u001b[0m_engine\u001b[0m\u001b[0;34m.\u001b[0m\u001b[0mget_loc\u001b[0m\u001b[0;34m(\u001b[0m\u001b[0mcasted_key\u001b[0m\u001b[0;34m)\u001b[0m\u001b[0;34m\u001b[0m\u001b[0;34m\u001b[0m\u001b[0m\n\u001b[1;32m   3362\u001b[0m             \u001b[0;32mexcept\u001b[0m \u001b[0mKeyError\u001b[0m \u001b[0;32mas\u001b[0m \u001b[0merr\u001b[0m\u001b[0;34m:\u001b[0m\u001b[0;34m\u001b[0m\u001b[0;34m\u001b[0m\u001b[0m\n\u001b[0;32m-> 3363\u001b[0;31m                 \u001b[0;32mraise\u001b[0m \u001b[0mKeyError\u001b[0m\u001b[0;34m(\u001b[0m\u001b[0mkey\u001b[0m\u001b[0;34m)\u001b[0m \u001b[0;32mfrom\u001b[0m \u001b[0merr\u001b[0m\u001b[0;34m\u001b[0m\u001b[0;34m\u001b[0m\u001b[0m\n\u001b[0m\u001b[1;32m   3364\u001b[0m \u001b[0;34m\u001b[0m\u001b[0m\n\u001b[1;32m   3365\u001b[0m         \u001b[0;32mif\u001b[0m \u001b[0mis_scalar\u001b[0m\u001b[0;34m(\u001b[0m\u001b[0mkey\u001b[0m\u001b[0;34m)\u001b[0m \u001b[0;32mand\u001b[0m \u001b[0misna\u001b[0m\u001b[0;34m(\u001b[0m\u001b[0mkey\u001b[0m\u001b[0;34m)\u001b[0m \u001b[0;32mand\u001b[0m \u001b[0;32mnot\u001b[0m \u001b[0mself\u001b[0m\u001b[0;34m.\u001b[0m\u001b[0mhasnans\u001b[0m\u001b[0;34m:\u001b[0m\u001b[0;34m\u001b[0m\u001b[0;34m\u001b[0m\u001b[0m\n",
            "\u001b[0;31mKeyError\u001b[0m: 'ab_group'"
          ]
        }
      ]
    },
    {
      "cell_type": "code",
      "source": [
        "data[data['ab_group']=='B'].describe()"
      ],
      "metadata": {
        "colab": {
          "base_uri": "https://localhost:8080/",
          "height": 502
        },
        "id": "jxupRRjSvM5M",
        "outputId": "91acbd0d-656b-46fe-b1e8-eeb51dbca070"
      },
      "execution_count": null,
      "outputs": [
        {
          "output_type": "error",
          "ename": "KeyError",
          "evalue": "ignored",
          "traceback": [
            "\u001b[0;31m---------------------------------------------------------------------------\u001b[0m",
            "\u001b[0;31mKeyError\u001b[0m                                  Traceback (most recent call last)",
            "\u001b[0;32m/usr/local/lib/python3.8/dist-packages/pandas/core/indexes/base.py\u001b[0m in \u001b[0;36mget_loc\u001b[0;34m(self, key, method, tolerance)\u001b[0m\n\u001b[1;32m   3360\u001b[0m             \u001b[0;32mtry\u001b[0m\u001b[0;34m:\u001b[0m\u001b[0;34m\u001b[0m\u001b[0;34m\u001b[0m\u001b[0m\n\u001b[0;32m-> 3361\u001b[0;31m                 \u001b[0;32mreturn\u001b[0m \u001b[0mself\u001b[0m\u001b[0;34m.\u001b[0m\u001b[0m_engine\u001b[0m\u001b[0;34m.\u001b[0m\u001b[0mget_loc\u001b[0m\u001b[0;34m(\u001b[0m\u001b[0mcasted_key\u001b[0m\u001b[0;34m)\u001b[0m\u001b[0;34m\u001b[0m\u001b[0;34m\u001b[0m\u001b[0m\n\u001b[0m\u001b[1;32m   3362\u001b[0m             \u001b[0;32mexcept\u001b[0m \u001b[0mKeyError\u001b[0m \u001b[0;32mas\u001b[0m \u001b[0merr\u001b[0m\u001b[0;34m:\u001b[0m\u001b[0;34m\u001b[0m\u001b[0;34m\u001b[0m\u001b[0m\n",
            "\u001b[0;32m/usr/local/lib/python3.8/dist-packages/pandas/_libs/index.pyx\u001b[0m in \u001b[0;36mpandas._libs.index.IndexEngine.get_loc\u001b[0;34m()\u001b[0m\n",
            "\u001b[0;32m/usr/local/lib/python3.8/dist-packages/pandas/_libs/index.pyx\u001b[0m in \u001b[0;36mpandas._libs.index.IndexEngine.get_loc\u001b[0;34m()\u001b[0m\n",
            "\u001b[0;32mpandas/_libs/hashtable_class_helper.pxi\u001b[0m in \u001b[0;36mpandas._libs.hashtable.PyObjectHashTable.get_item\u001b[0;34m()\u001b[0m\n",
            "\u001b[0;32mpandas/_libs/hashtable_class_helper.pxi\u001b[0m in \u001b[0;36mpandas._libs.hashtable.PyObjectHashTable.get_item\u001b[0;34m()\u001b[0m\n",
            "\u001b[0;31mKeyError\u001b[0m: 'ab_group'",
            "\nThe above exception was the direct cause of the following exception:\n",
            "\u001b[0;31mKeyError\u001b[0m                                  Traceback (most recent call last)",
            "\u001b[0;32m<ipython-input-134-061c2a8d22e5>\u001b[0m in \u001b[0;36m<module>\u001b[0;34m\u001b[0m\n\u001b[0;32m----> 1\u001b[0;31m \u001b[0mdata\u001b[0m\u001b[0;34m[\u001b[0m\u001b[0mdata\u001b[0m\u001b[0;34m[\u001b[0m\u001b[0;34m'ab_group'\u001b[0m\u001b[0;34m]\u001b[0m\u001b[0;34m==\u001b[0m\u001b[0;34m'B'\u001b[0m\u001b[0;34m]\u001b[0m\u001b[0;34m.\u001b[0m\u001b[0mdescribe\u001b[0m\u001b[0;34m(\u001b[0m\u001b[0;34m)\u001b[0m\u001b[0;34m\u001b[0m\u001b[0;34m\u001b[0m\u001b[0m\n\u001b[0m",
            "\u001b[0;32m/usr/local/lib/python3.8/dist-packages/pandas/core/frame.py\u001b[0m in \u001b[0;36m__getitem__\u001b[0;34m(self, key)\u001b[0m\n\u001b[1;32m   3456\u001b[0m             \u001b[0;32mif\u001b[0m \u001b[0mself\u001b[0m\u001b[0;34m.\u001b[0m\u001b[0mcolumns\u001b[0m\u001b[0;34m.\u001b[0m\u001b[0mnlevels\u001b[0m \u001b[0;34m>\u001b[0m \u001b[0;36m1\u001b[0m\u001b[0;34m:\u001b[0m\u001b[0;34m\u001b[0m\u001b[0;34m\u001b[0m\u001b[0m\n\u001b[1;32m   3457\u001b[0m                 \u001b[0;32mreturn\u001b[0m \u001b[0mself\u001b[0m\u001b[0;34m.\u001b[0m\u001b[0m_getitem_multilevel\u001b[0m\u001b[0;34m(\u001b[0m\u001b[0mkey\u001b[0m\u001b[0;34m)\u001b[0m\u001b[0;34m\u001b[0m\u001b[0;34m\u001b[0m\u001b[0m\n\u001b[0;32m-> 3458\u001b[0;31m             \u001b[0mindexer\u001b[0m \u001b[0;34m=\u001b[0m \u001b[0mself\u001b[0m\u001b[0;34m.\u001b[0m\u001b[0mcolumns\u001b[0m\u001b[0;34m.\u001b[0m\u001b[0mget_loc\u001b[0m\u001b[0;34m(\u001b[0m\u001b[0mkey\u001b[0m\u001b[0;34m)\u001b[0m\u001b[0;34m\u001b[0m\u001b[0;34m\u001b[0m\u001b[0m\n\u001b[0m\u001b[1;32m   3459\u001b[0m             \u001b[0;32mif\u001b[0m \u001b[0mis_integer\u001b[0m\u001b[0;34m(\u001b[0m\u001b[0mindexer\u001b[0m\u001b[0;34m)\u001b[0m\u001b[0;34m:\u001b[0m\u001b[0;34m\u001b[0m\u001b[0;34m\u001b[0m\u001b[0m\n\u001b[1;32m   3460\u001b[0m                 \u001b[0mindexer\u001b[0m \u001b[0;34m=\u001b[0m \u001b[0;34m[\u001b[0m\u001b[0mindexer\u001b[0m\u001b[0;34m]\u001b[0m\u001b[0;34m\u001b[0m\u001b[0;34m\u001b[0m\u001b[0m\n",
            "\u001b[0;32m/usr/local/lib/python3.8/dist-packages/pandas/core/indexes/base.py\u001b[0m in \u001b[0;36mget_loc\u001b[0;34m(self, key, method, tolerance)\u001b[0m\n\u001b[1;32m   3361\u001b[0m                 \u001b[0;32mreturn\u001b[0m \u001b[0mself\u001b[0m\u001b[0;34m.\u001b[0m\u001b[0m_engine\u001b[0m\u001b[0;34m.\u001b[0m\u001b[0mget_loc\u001b[0m\u001b[0;34m(\u001b[0m\u001b[0mcasted_key\u001b[0m\u001b[0;34m)\u001b[0m\u001b[0;34m\u001b[0m\u001b[0;34m\u001b[0m\u001b[0m\n\u001b[1;32m   3362\u001b[0m             \u001b[0;32mexcept\u001b[0m \u001b[0mKeyError\u001b[0m \u001b[0;32mas\u001b[0m \u001b[0merr\u001b[0m\u001b[0;34m:\u001b[0m\u001b[0;34m\u001b[0m\u001b[0;34m\u001b[0m\u001b[0m\n\u001b[0;32m-> 3363\u001b[0;31m                 \u001b[0;32mraise\u001b[0m \u001b[0mKeyError\u001b[0m\u001b[0;34m(\u001b[0m\u001b[0mkey\u001b[0m\u001b[0;34m)\u001b[0m \u001b[0;32mfrom\u001b[0m \u001b[0merr\u001b[0m\u001b[0;34m\u001b[0m\u001b[0;34m\u001b[0m\u001b[0m\n\u001b[0m\u001b[1;32m   3364\u001b[0m \u001b[0;34m\u001b[0m\u001b[0m\n\u001b[1;32m   3365\u001b[0m         \u001b[0;32mif\u001b[0m \u001b[0mis_scalar\u001b[0m\u001b[0;34m(\u001b[0m\u001b[0mkey\u001b[0m\u001b[0;34m)\u001b[0m \u001b[0;32mand\u001b[0m \u001b[0misna\u001b[0m\u001b[0;34m(\u001b[0m\u001b[0mkey\u001b[0m\u001b[0;34m)\u001b[0m \u001b[0;32mand\u001b[0m \u001b[0;32mnot\u001b[0m \u001b[0mself\u001b[0m\u001b[0;34m.\u001b[0m\u001b[0mhasnans\u001b[0m\u001b[0;34m:\u001b[0m\u001b[0;34m\u001b[0m\u001b[0;34m\u001b[0m\u001b[0m\n",
            "\u001b[0;31mKeyError\u001b[0m: 'ab_group'"
          ]
        }
      ]
    },
    {
      "cell_type": "markdown",
      "source": [
        "Пока мы еще ничего не посчитали, но уже можно заметить, что максимальный чек в первой группе сильно больше, чем в группе B. Все мы знаем, что среднее очень неустойчиво к выбросам, так что нам необходимо будет это учесть."
      ],
      "metadata": {
        "id": "eGwqKXIuxHRD"
      }
    },
    {
      "cell_type": "markdown",
      "source": [
        "#Проверка на нормальность распределения и применение статистических критериев"
      ],
      "metadata": {
        "id": "sTDYCs3OxRn8"
      }
    },
    {
      "cell_type": "markdown",
      "source": [
        "##Метрика визиты на юзера"
      ],
      "metadata": {
        "id": "_EruvT7Mrw0U"
      }
    },
    {
      "cell_type": "code",
      "source": [
        "plt.figure(figsize=(10, 10))\n",
        "control_visit_all = data['av_site visit'][data['ab_group'] == 'A']\n",
        "test_visit_all =data['av_site visit'][data['ab_group'] == 'B']\n",
        "\n",
        "\n",
        "plt.hist(control_visit_all, color='r', bins=50)\n",
        "plt.hist(test_visit_all,  bins=50)\n",
        "\n",
        "\n",
        "plt.show()"
      ],
      "metadata": {
        "colab": {
          "base_uri": "https://localhost:8080/",
          "height": 519
        },
        "id": "_9WymqyAvTb2",
        "outputId": "457db8b0-e3cf-4b33-bb75-ef85bd61a589"
      },
      "execution_count": null,
      "outputs": [
        {
          "output_type": "error",
          "ename": "KeyError",
          "evalue": "ignored",
          "traceback": [
            "\u001b[0;31m---------------------------------------------------------------------------\u001b[0m",
            "\u001b[0;31mKeyError\u001b[0m                                  Traceback (most recent call last)",
            "\u001b[0;32m/usr/local/lib/python3.8/dist-packages/pandas/core/indexes/base.py\u001b[0m in \u001b[0;36mget_loc\u001b[0;34m(self, key, method, tolerance)\u001b[0m\n\u001b[1;32m   3360\u001b[0m             \u001b[0;32mtry\u001b[0m\u001b[0;34m:\u001b[0m\u001b[0;34m\u001b[0m\u001b[0;34m\u001b[0m\u001b[0m\n\u001b[0;32m-> 3361\u001b[0;31m                 \u001b[0;32mreturn\u001b[0m \u001b[0mself\u001b[0m\u001b[0;34m.\u001b[0m\u001b[0m_engine\u001b[0m\u001b[0;34m.\u001b[0m\u001b[0mget_loc\u001b[0m\u001b[0;34m(\u001b[0m\u001b[0mcasted_key\u001b[0m\u001b[0;34m)\u001b[0m\u001b[0;34m\u001b[0m\u001b[0;34m\u001b[0m\u001b[0m\n\u001b[0m\u001b[1;32m   3362\u001b[0m             \u001b[0;32mexcept\u001b[0m \u001b[0mKeyError\u001b[0m \u001b[0;32mas\u001b[0m \u001b[0merr\u001b[0m\u001b[0;34m:\u001b[0m\u001b[0;34m\u001b[0m\u001b[0;34m\u001b[0m\u001b[0m\n",
            "\u001b[0;32m/usr/local/lib/python3.8/dist-packages/pandas/_libs/index.pyx\u001b[0m in \u001b[0;36mpandas._libs.index.IndexEngine.get_loc\u001b[0;34m()\u001b[0m\n",
            "\u001b[0;32m/usr/local/lib/python3.8/dist-packages/pandas/_libs/index.pyx\u001b[0m in \u001b[0;36mpandas._libs.index.IndexEngine.get_loc\u001b[0;34m()\u001b[0m\n",
            "\u001b[0;32mpandas/_libs/hashtable_class_helper.pxi\u001b[0m in \u001b[0;36mpandas._libs.hashtable.PyObjectHashTable.get_item\u001b[0;34m()\u001b[0m\n",
            "\u001b[0;32mpandas/_libs/hashtable_class_helper.pxi\u001b[0m in \u001b[0;36mpandas._libs.hashtable.PyObjectHashTable.get_item\u001b[0;34m()\u001b[0m\n",
            "\u001b[0;31mKeyError\u001b[0m: 'av_site visit'",
            "\nThe above exception was the direct cause of the following exception:\n",
            "\u001b[0;31mKeyError\u001b[0m                                  Traceback (most recent call last)",
            "\u001b[0;32m<ipython-input-135-a2c45abc9147>\u001b[0m in \u001b[0;36m<module>\u001b[0;34m\u001b[0m\n\u001b[1;32m      1\u001b[0m \u001b[0mplt\u001b[0m\u001b[0;34m.\u001b[0m\u001b[0mfigure\u001b[0m\u001b[0;34m(\u001b[0m\u001b[0mfigsize\u001b[0m\u001b[0;34m=\u001b[0m\u001b[0;34m(\u001b[0m\u001b[0;36m10\u001b[0m\u001b[0;34m,\u001b[0m \u001b[0;36m10\u001b[0m\u001b[0;34m)\u001b[0m\u001b[0;34m)\u001b[0m\u001b[0;34m\u001b[0m\u001b[0;34m\u001b[0m\u001b[0m\n\u001b[0;32m----> 2\u001b[0;31m \u001b[0mcontrol_visit_all\u001b[0m \u001b[0;34m=\u001b[0m \u001b[0mdata\u001b[0m\u001b[0;34m[\u001b[0m\u001b[0;34m'av_site visit'\u001b[0m\u001b[0;34m]\u001b[0m\u001b[0;34m[\u001b[0m\u001b[0mdata\u001b[0m\u001b[0;34m[\u001b[0m\u001b[0;34m'ab_group'\u001b[0m\u001b[0;34m]\u001b[0m \u001b[0;34m==\u001b[0m \u001b[0;34m'A'\u001b[0m\u001b[0;34m]\u001b[0m\u001b[0;34m\u001b[0m\u001b[0;34m\u001b[0m\u001b[0m\n\u001b[0m\u001b[1;32m      3\u001b[0m \u001b[0mtest_visit_all\u001b[0m \u001b[0;34m=\u001b[0m\u001b[0mdata\u001b[0m\u001b[0;34m[\u001b[0m\u001b[0;34m'av_site visit'\u001b[0m\u001b[0;34m]\u001b[0m\u001b[0;34m[\u001b[0m\u001b[0mdata\u001b[0m\u001b[0;34m[\u001b[0m\u001b[0;34m'ab_group'\u001b[0m\u001b[0;34m]\u001b[0m \u001b[0;34m==\u001b[0m \u001b[0;34m'B'\u001b[0m\u001b[0;34m]\u001b[0m\u001b[0;34m\u001b[0m\u001b[0;34m\u001b[0m\u001b[0m\n\u001b[1;32m      4\u001b[0m \u001b[0;34m\u001b[0m\u001b[0m\n\u001b[1;32m      5\u001b[0m \u001b[0;34m\u001b[0m\u001b[0m\n",
            "\u001b[0;32m/usr/local/lib/python3.8/dist-packages/pandas/core/frame.py\u001b[0m in \u001b[0;36m__getitem__\u001b[0;34m(self, key)\u001b[0m\n\u001b[1;32m   3456\u001b[0m             \u001b[0;32mif\u001b[0m \u001b[0mself\u001b[0m\u001b[0;34m.\u001b[0m\u001b[0mcolumns\u001b[0m\u001b[0;34m.\u001b[0m\u001b[0mnlevels\u001b[0m \u001b[0;34m>\u001b[0m \u001b[0;36m1\u001b[0m\u001b[0;34m:\u001b[0m\u001b[0;34m\u001b[0m\u001b[0;34m\u001b[0m\u001b[0m\n\u001b[1;32m   3457\u001b[0m                 \u001b[0;32mreturn\u001b[0m \u001b[0mself\u001b[0m\u001b[0;34m.\u001b[0m\u001b[0m_getitem_multilevel\u001b[0m\u001b[0;34m(\u001b[0m\u001b[0mkey\u001b[0m\u001b[0;34m)\u001b[0m\u001b[0;34m\u001b[0m\u001b[0;34m\u001b[0m\u001b[0m\n\u001b[0;32m-> 3458\u001b[0;31m             \u001b[0mindexer\u001b[0m \u001b[0;34m=\u001b[0m \u001b[0mself\u001b[0m\u001b[0;34m.\u001b[0m\u001b[0mcolumns\u001b[0m\u001b[0;34m.\u001b[0m\u001b[0mget_loc\u001b[0m\u001b[0;34m(\u001b[0m\u001b[0mkey\u001b[0m\u001b[0;34m)\u001b[0m\u001b[0;34m\u001b[0m\u001b[0;34m\u001b[0m\u001b[0m\n\u001b[0m\u001b[1;32m   3459\u001b[0m             \u001b[0;32mif\u001b[0m \u001b[0mis_integer\u001b[0m\u001b[0;34m(\u001b[0m\u001b[0mindexer\u001b[0m\u001b[0;34m)\u001b[0m\u001b[0;34m:\u001b[0m\u001b[0;34m\u001b[0m\u001b[0;34m\u001b[0m\u001b[0m\n\u001b[1;32m   3460\u001b[0m                 \u001b[0mindexer\u001b[0m \u001b[0;34m=\u001b[0m \u001b[0;34m[\u001b[0m\u001b[0mindexer\u001b[0m\u001b[0;34m]\u001b[0m\u001b[0;34m\u001b[0m\u001b[0;34m\u001b[0m\u001b[0m\n",
            "\u001b[0;32m/usr/local/lib/python3.8/dist-packages/pandas/core/indexes/base.py\u001b[0m in \u001b[0;36mget_loc\u001b[0;34m(self, key, method, tolerance)\u001b[0m\n\u001b[1;32m   3361\u001b[0m                 \u001b[0;32mreturn\u001b[0m \u001b[0mself\u001b[0m\u001b[0;34m.\u001b[0m\u001b[0m_engine\u001b[0m\u001b[0;34m.\u001b[0m\u001b[0mget_loc\u001b[0m\u001b[0;34m(\u001b[0m\u001b[0mcasted_key\u001b[0m\u001b[0;34m)\u001b[0m\u001b[0;34m\u001b[0m\u001b[0;34m\u001b[0m\u001b[0m\n\u001b[1;32m   3362\u001b[0m             \u001b[0;32mexcept\u001b[0m \u001b[0mKeyError\u001b[0m \u001b[0;32mas\u001b[0m \u001b[0merr\u001b[0m\u001b[0;34m:\u001b[0m\u001b[0;34m\u001b[0m\u001b[0;34m\u001b[0m\u001b[0m\n\u001b[0;32m-> 3363\u001b[0;31m                 \u001b[0;32mraise\u001b[0m \u001b[0mKeyError\u001b[0m\u001b[0;34m(\u001b[0m\u001b[0mkey\u001b[0m\u001b[0;34m)\u001b[0m \u001b[0;32mfrom\u001b[0m \u001b[0merr\u001b[0m\u001b[0;34m\u001b[0m\u001b[0;34m\u001b[0m\u001b[0m\n\u001b[0m\u001b[1;32m   3364\u001b[0m \u001b[0;34m\u001b[0m\u001b[0m\n\u001b[1;32m   3365\u001b[0m         \u001b[0;32mif\u001b[0m \u001b[0mis_scalar\u001b[0m\u001b[0;34m(\u001b[0m\u001b[0mkey\u001b[0m\u001b[0;34m)\u001b[0m \u001b[0;32mand\u001b[0m \u001b[0misna\u001b[0m\u001b[0;34m(\u001b[0m\u001b[0mkey\u001b[0m\u001b[0;34m)\u001b[0m \u001b[0;32mand\u001b[0m \u001b[0;32mnot\u001b[0m \u001b[0mself\u001b[0m\u001b[0;34m.\u001b[0m\u001b[0mhasnans\u001b[0m\u001b[0;34m:\u001b[0m\u001b[0;34m\u001b[0m\u001b[0;34m\u001b[0m\u001b[0m\n",
            "\u001b[0;31mKeyError\u001b[0m: 'av_site visit'"
          ]
        },
        {
          "output_type": "display_data",
          "data": {
            "text/plain": [
              "<Figure size 720x720 with 0 Axes>"
            ]
          },
          "metadata": {}
        }
      ]
    },
    {
      "cell_type": "code",
      "source": [
        "stats.ttest_ind(control_visit_all, test_visit_all, equal_var = False)"
      ],
      "metadata": {
        "colab": {
          "base_uri": "https://localhost:8080/"
        },
        "id": "HWjxRcEcvThm",
        "outputId": "eb3245a0-33c1-466d-92a6-3b6d6b37138e"
      },
      "execution_count": null,
      "outputs": [
        {
          "output_type": "execute_result",
          "data": {
            "text/plain": [
              "Ttest_indResult(statistic=-1.872183970103851, pvalue=0.06119777801292236)"
            ]
          },
          "metadata": {},
          "execution_count": 136
        }
      ]
    },
    {
      "cell_type": "markdown",
      "source": [
        "##Метрика доля юзеров с покупкой"
      ],
      "metadata": {
        "id": "Xx8hTteTriJL"
      }
    },
    {
      "cell_type": "code",
      "source": [
        "plt.figure(figsize=(10, 10))\n",
        "control_visit = data['av_site visit'][(data['ab_group'] == 'A')&(data['purchase'] == 1)]\n",
        "test_visit =data['av_site visit'][(data['ab_group'] == 'B')&(data['purchase'] == 1)]\n",
        "plt.hist(test_visit,  bins=20)\n",
        "plt.hist(control_visit, color='r', bins=20)\n",
        "\n",
        "plt.show()"
      ],
      "metadata": {
        "colab": {
          "base_uri": "https://localhost:8080/",
          "height": 519
        },
        "id": "umt-3EnZvTkh",
        "outputId": "39d792f5-92d8-45fb-c7ea-b76934ee3f25"
      },
      "execution_count": null,
      "outputs": [
        {
          "output_type": "error",
          "ename": "KeyError",
          "evalue": "ignored",
          "traceback": [
            "\u001b[0;31m---------------------------------------------------------------------------\u001b[0m",
            "\u001b[0;31mKeyError\u001b[0m                                  Traceback (most recent call last)",
            "\u001b[0;32m/usr/local/lib/python3.8/dist-packages/pandas/core/indexes/base.py\u001b[0m in \u001b[0;36mget_loc\u001b[0;34m(self, key, method, tolerance)\u001b[0m\n\u001b[1;32m   3360\u001b[0m             \u001b[0;32mtry\u001b[0m\u001b[0;34m:\u001b[0m\u001b[0;34m\u001b[0m\u001b[0;34m\u001b[0m\u001b[0m\n\u001b[0;32m-> 3361\u001b[0;31m                 \u001b[0;32mreturn\u001b[0m \u001b[0mself\u001b[0m\u001b[0;34m.\u001b[0m\u001b[0m_engine\u001b[0m\u001b[0;34m.\u001b[0m\u001b[0mget_loc\u001b[0m\u001b[0;34m(\u001b[0m\u001b[0mcasted_key\u001b[0m\u001b[0;34m)\u001b[0m\u001b[0;34m\u001b[0m\u001b[0;34m\u001b[0m\u001b[0m\n\u001b[0m\u001b[1;32m   3362\u001b[0m             \u001b[0;32mexcept\u001b[0m \u001b[0mKeyError\u001b[0m \u001b[0;32mas\u001b[0m \u001b[0merr\u001b[0m\u001b[0;34m:\u001b[0m\u001b[0;34m\u001b[0m\u001b[0;34m\u001b[0m\u001b[0m\n",
            "\u001b[0;32m/usr/local/lib/python3.8/dist-packages/pandas/_libs/index.pyx\u001b[0m in \u001b[0;36mpandas._libs.index.IndexEngine.get_loc\u001b[0;34m()\u001b[0m\n",
            "\u001b[0;32m/usr/local/lib/python3.8/dist-packages/pandas/_libs/index.pyx\u001b[0m in \u001b[0;36mpandas._libs.index.IndexEngine.get_loc\u001b[0;34m()\u001b[0m\n",
            "\u001b[0;32mpandas/_libs/hashtable_class_helper.pxi\u001b[0m in \u001b[0;36mpandas._libs.hashtable.PyObjectHashTable.get_item\u001b[0;34m()\u001b[0m\n",
            "\u001b[0;32mpandas/_libs/hashtable_class_helper.pxi\u001b[0m in \u001b[0;36mpandas._libs.hashtable.PyObjectHashTable.get_item\u001b[0;34m()\u001b[0m\n",
            "\u001b[0;31mKeyError\u001b[0m: 'av_site visit'",
            "\nThe above exception was the direct cause of the following exception:\n",
            "\u001b[0;31mKeyError\u001b[0m                                  Traceback (most recent call last)",
            "\u001b[0;32m<ipython-input-137-816caea151fa>\u001b[0m in \u001b[0;36m<module>\u001b[0;34m\u001b[0m\n\u001b[1;32m      1\u001b[0m \u001b[0mplt\u001b[0m\u001b[0;34m.\u001b[0m\u001b[0mfigure\u001b[0m\u001b[0;34m(\u001b[0m\u001b[0mfigsize\u001b[0m\u001b[0;34m=\u001b[0m\u001b[0;34m(\u001b[0m\u001b[0;36m10\u001b[0m\u001b[0;34m,\u001b[0m \u001b[0;36m10\u001b[0m\u001b[0;34m)\u001b[0m\u001b[0;34m)\u001b[0m\u001b[0;34m\u001b[0m\u001b[0;34m\u001b[0m\u001b[0m\n\u001b[0;32m----> 2\u001b[0;31m \u001b[0mcontrol_visit\u001b[0m \u001b[0;34m=\u001b[0m \u001b[0mdata\u001b[0m\u001b[0;34m[\u001b[0m\u001b[0;34m'av_site visit'\u001b[0m\u001b[0;34m]\u001b[0m\u001b[0;34m[\u001b[0m\u001b[0;34m(\u001b[0m\u001b[0mdata\u001b[0m\u001b[0;34m[\u001b[0m\u001b[0;34m'ab_group'\u001b[0m\u001b[0;34m]\u001b[0m \u001b[0;34m==\u001b[0m \u001b[0;34m'A'\u001b[0m\u001b[0;34m)\u001b[0m\u001b[0;34m&\u001b[0m\u001b[0;34m(\u001b[0m\u001b[0mdata\u001b[0m\u001b[0;34m[\u001b[0m\u001b[0;34m'purchase'\u001b[0m\u001b[0;34m]\u001b[0m \u001b[0;34m==\u001b[0m \u001b[0;36m1\u001b[0m\u001b[0;34m)\u001b[0m\u001b[0;34m]\u001b[0m\u001b[0;34m\u001b[0m\u001b[0;34m\u001b[0m\u001b[0m\n\u001b[0m\u001b[1;32m      3\u001b[0m \u001b[0mtest_visit\u001b[0m \u001b[0;34m=\u001b[0m\u001b[0mdata\u001b[0m\u001b[0;34m[\u001b[0m\u001b[0;34m'av_site visit'\u001b[0m\u001b[0;34m]\u001b[0m\u001b[0;34m[\u001b[0m\u001b[0;34m(\u001b[0m\u001b[0mdata\u001b[0m\u001b[0;34m[\u001b[0m\u001b[0;34m'ab_group'\u001b[0m\u001b[0;34m]\u001b[0m \u001b[0;34m==\u001b[0m \u001b[0;34m'B'\u001b[0m\u001b[0;34m)\u001b[0m\u001b[0;34m&\u001b[0m\u001b[0;34m(\u001b[0m\u001b[0mdata\u001b[0m\u001b[0;34m[\u001b[0m\u001b[0;34m'purchase'\u001b[0m\u001b[0;34m]\u001b[0m \u001b[0;34m==\u001b[0m \u001b[0;36m1\u001b[0m\u001b[0;34m)\u001b[0m\u001b[0;34m]\u001b[0m\u001b[0;34m\u001b[0m\u001b[0;34m\u001b[0m\u001b[0m\n\u001b[1;32m      4\u001b[0m \u001b[0mplt\u001b[0m\u001b[0;34m.\u001b[0m\u001b[0mhist\u001b[0m\u001b[0;34m(\u001b[0m\u001b[0mtest_visit\u001b[0m\u001b[0;34m,\u001b[0m  \u001b[0mbins\u001b[0m\u001b[0;34m=\u001b[0m\u001b[0;36m20\u001b[0m\u001b[0;34m)\u001b[0m\u001b[0;34m\u001b[0m\u001b[0;34m\u001b[0m\u001b[0m\n\u001b[1;32m      5\u001b[0m \u001b[0mplt\u001b[0m\u001b[0;34m.\u001b[0m\u001b[0mhist\u001b[0m\u001b[0;34m(\u001b[0m\u001b[0mcontrol_visit\u001b[0m\u001b[0;34m,\u001b[0m \u001b[0mcolor\u001b[0m\u001b[0;34m=\u001b[0m\u001b[0;34m'r'\u001b[0m\u001b[0;34m,\u001b[0m \u001b[0mbins\u001b[0m\u001b[0;34m=\u001b[0m\u001b[0;36m20\u001b[0m\u001b[0;34m)\u001b[0m\u001b[0;34m\u001b[0m\u001b[0;34m\u001b[0m\u001b[0m\n",
            "\u001b[0;32m/usr/local/lib/python3.8/dist-packages/pandas/core/frame.py\u001b[0m in \u001b[0;36m__getitem__\u001b[0;34m(self, key)\u001b[0m\n\u001b[1;32m   3456\u001b[0m             \u001b[0;32mif\u001b[0m \u001b[0mself\u001b[0m\u001b[0;34m.\u001b[0m\u001b[0mcolumns\u001b[0m\u001b[0;34m.\u001b[0m\u001b[0mnlevels\u001b[0m \u001b[0;34m>\u001b[0m \u001b[0;36m1\u001b[0m\u001b[0;34m:\u001b[0m\u001b[0;34m\u001b[0m\u001b[0;34m\u001b[0m\u001b[0m\n\u001b[1;32m   3457\u001b[0m                 \u001b[0;32mreturn\u001b[0m \u001b[0mself\u001b[0m\u001b[0;34m.\u001b[0m\u001b[0m_getitem_multilevel\u001b[0m\u001b[0;34m(\u001b[0m\u001b[0mkey\u001b[0m\u001b[0;34m)\u001b[0m\u001b[0;34m\u001b[0m\u001b[0;34m\u001b[0m\u001b[0m\n\u001b[0;32m-> 3458\u001b[0;31m             \u001b[0mindexer\u001b[0m \u001b[0;34m=\u001b[0m \u001b[0mself\u001b[0m\u001b[0;34m.\u001b[0m\u001b[0mcolumns\u001b[0m\u001b[0;34m.\u001b[0m\u001b[0mget_loc\u001b[0m\u001b[0;34m(\u001b[0m\u001b[0mkey\u001b[0m\u001b[0;34m)\u001b[0m\u001b[0;34m\u001b[0m\u001b[0;34m\u001b[0m\u001b[0m\n\u001b[0m\u001b[1;32m   3459\u001b[0m             \u001b[0;32mif\u001b[0m \u001b[0mis_integer\u001b[0m\u001b[0;34m(\u001b[0m\u001b[0mindexer\u001b[0m\u001b[0;34m)\u001b[0m\u001b[0;34m:\u001b[0m\u001b[0;34m\u001b[0m\u001b[0;34m\u001b[0m\u001b[0m\n\u001b[1;32m   3460\u001b[0m                 \u001b[0mindexer\u001b[0m \u001b[0;34m=\u001b[0m \u001b[0;34m[\u001b[0m\u001b[0mindexer\u001b[0m\u001b[0;34m]\u001b[0m\u001b[0;34m\u001b[0m\u001b[0;34m\u001b[0m\u001b[0m\n",
            "\u001b[0;32m/usr/local/lib/python3.8/dist-packages/pandas/core/indexes/base.py\u001b[0m in \u001b[0;36mget_loc\u001b[0;34m(self, key, method, tolerance)\u001b[0m\n\u001b[1;32m   3361\u001b[0m                 \u001b[0;32mreturn\u001b[0m \u001b[0mself\u001b[0m\u001b[0;34m.\u001b[0m\u001b[0m_engine\u001b[0m\u001b[0;34m.\u001b[0m\u001b[0mget_loc\u001b[0m\u001b[0;34m(\u001b[0m\u001b[0mcasted_key\u001b[0m\u001b[0;34m)\u001b[0m\u001b[0;34m\u001b[0m\u001b[0;34m\u001b[0m\u001b[0m\n\u001b[1;32m   3362\u001b[0m             \u001b[0;32mexcept\u001b[0m \u001b[0mKeyError\u001b[0m \u001b[0;32mas\u001b[0m \u001b[0merr\u001b[0m\u001b[0;34m:\u001b[0m\u001b[0;34m\u001b[0m\u001b[0;34m\u001b[0m\u001b[0m\n\u001b[0;32m-> 3363\u001b[0;31m                 \u001b[0;32mraise\u001b[0m \u001b[0mKeyError\u001b[0m\u001b[0;34m(\u001b[0m\u001b[0mkey\u001b[0m\u001b[0;34m)\u001b[0m \u001b[0;32mfrom\u001b[0m \u001b[0merr\u001b[0m\u001b[0;34m\u001b[0m\u001b[0;34m\u001b[0m\u001b[0m\n\u001b[0m\u001b[1;32m   3364\u001b[0m \u001b[0;34m\u001b[0m\u001b[0m\n\u001b[1;32m   3365\u001b[0m         \u001b[0;32mif\u001b[0m \u001b[0mis_scalar\u001b[0m\u001b[0;34m(\u001b[0m\u001b[0mkey\u001b[0m\u001b[0;34m)\u001b[0m \u001b[0;32mand\u001b[0m \u001b[0misna\u001b[0m\u001b[0;34m(\u001b[0m\u001b[0mkey\u001b[0m\u001b[0;34m)\u001b[0m \u001b[0;32mand\u001b[0m \u001b[0;32mnot\u001b[0m \u001b[0mself\u001b[0m\u001b[0;34m.\u001b[0m\u001b[0mhasnans\u001b[0m\u001b[0;34m:\u001b[0m\u001b[0;34m\u001b[0m\u001b[0;34m\u001b[0m\u001b[0m\n",
            "\u001b[0;31mKeyError\u001b[0m: 'av_site visit'"
          ]
        },
        {
          "output_type": "display_data",
          "data": {
            "text/plain": [
              "<Figure size 720x720 with 0 Axes>"
            ]
          },
          "metadata": {}
        }
      ]
    },
    {
      "cell_type": "code",
      "execution_count": null,
      "metadata": {
        "id": "MQQNaIlHiz3c",
        "colab": {
          "base_uri": "https://localhost:8080/",
          "height": 502
        },
        "outputId": "0c28edaa-7fca-46cc-b158-bb69bb196425"
      },
      "outputs": [
        {
          "output_type": "error",
          "ename": "KeyError",
          "evalue": "ignored",
          "traceback": [
            "\u001b[0;31m---------------------------------------------------------------------------\u001b[0m",
            "\u001b[0;31mKeyError\u001b[0m                                  Traceback (most recent call last)",
            "\u001b[0;32m/usr/local/lib/python3.8/dist-packages/pandas/core/indexes/base.py\u001b[0m in \u001b[0;36mget_loc\u001b[0;34m(self, key, method, tolerance)\u001b[0m\n\u001b[1;32m   3360\u001b[0m             \u001b[0;32mtry\u001b[0m\u001b[0;34m:\u001b[0m\u001b[0;34m\u001b[0m\u001b[0;34m\u001b[0m\u001b[0m\n\u001b[0;32m-> 3361\u001b[0;31m                 \u001b[0;32mreturn\u001b[0m \u001b[0mself\u001b[0m\u001b[0;34m.\u001b[0m\u001b[0m_engine\u001b[0m\u001b[0;34m.\u001b[0m\u001b[0mget_loc\u001b[0m\u001b[0;34m(\u001b[0m\u001b[0mcasted_key\u001b[0m\u001b[0;34m)\u001b[0m\u001b[0;34m\u001b[0m\u001b[0;34m\u001b[0m\u001b[0m\n\u001b[0m\u001b[1;32m   3362\u001b[0m             \u001b[0;32mexcept\u001b[0m \u001b[0mKeyError\u001b[0m \u001b[0;32mas\u001b[0m \u001b[0merr\u001b[0m\u001b[0;34m:\u001b[0m\u001b[0;34m\u001b[0m\u001b[0;34m\u001b[0m\u001b[0m\n",
            "\u001b[0;32m/usr/local/lib/python3.8/dist-packages/pandas/_libs/index.pyx\u001b[0m in \u001b[0;36mpandas._libs.index.IndexEngine.get_loc\u001b[0;34m()\u001b[0m\n",
            "\u001b[0;32m/usr/local/lib/python3.8/dist-packages/pandas/_libs/index.pyx\u001b[0m in \u001b[0;36mpandas._libs.index.IndexEngine.get_loc\u001b[0;34m()\u001b[0m\n",
            "\u001b[0;32mpandas/_libs/hashtable_class_helper.pxi\u001b[0m in \u001b[0;36mpandas._libs.hashtable.PyObjectHashTable.get_item\u001b[0;34m()\u001b[0m\n",
            "\u001b[0;32mpandas/_libs/hashtable_class_helper.pxi\u001b[0m in \u001b[0;36mpandas._libs.hashtable.PyObjectHashTable.get_item\u001b[0;34m()\u001b[0m\n",
            "\u001b[0;31mKeyError\u001b[0m: 'purchase'",
            "\nThe above exception was the direct cause of the following exception:\n",
            "\u001b[0;31mKeyError\u001b[0m                                  Traceback (most recent call last)",
            "\u001b[0;32m<ipython-input-138-e4c3795fdd2a>\u001b[0m in \u001b[0;36m<module>\u001b[0;34m\u001b[0m\n\u001b[0;32m----> 1\u001b[0;31m \u001b[0mdata\u001b[0m\u001b[0;34m[\u001b[0m\u001b[0;34m'purchase'\u001b[0m\u001b[0;34m]\u001b[0m\u001b[0;34m.\u001b[0m\u001b[0mvalue_counts\u001b[0m\u001b[0;34m(\u001b[0m\u001b[0;34m)\u001b[0m\u001b[0;34m\u001b[0m\u001b[0;34m\u001b[0m\u001b[0m\n\u001b[0m",
            "\u001b[0;32m/usr/local/lib/python3.8/dist-packages/pandas/core/frame.py\u001b[0m in \u001b[0;36m__getitem__\u001b[0;34m(self, key)\u001b[0m\n\u001b[1;32m   3456\u001b[0m             \u001b[0;32mif\u001b[0m \u001b[0mself\u001b[0m\u001b[0;34m.\u001b[0m\u001b[0mcolumns\u001b[0m\u001b[0;34m.\u001b[0m\u001b[0mnlevels\u001b[0m \u001b[0;34m>\u001b[0m \u001b[0;36m1\u001b[0m\u001b[0;34m:\u001b[0m\u001b[0;34m\u001b[0m\u001b[0;34m\u001b[0m\u001b[0m\n\u001b[1;32m   3457\u001b[0m                 \u001b[0;32mreturn\u001b[0m \u001b[0mself\u001b[0m\u001b[0;34m.\u001b[0m\u001b[0m_getitem_multilevel\u001b[0m\u001b[0;34m(\u001b[0m\u001b[0mkey\u001b[0m\u001b[0;34m)\u001b[0m\u001b[0;34m\u001b[0m\u001b[0;34m\u001b[0m\u001b[0m\n\u001b[0;32m-> 3458\u001b[0;31m             \u001b[0mindexer\u001b[0m \u001b[0;34m=\u001b[0m \u001b[0mself\u001b[0m\u001b[0;34m.\u001b[0m\u001b[0mcolumns\u001b[0m\u001b[0;34m.\u001b[0m\u001b[0mget_loc\u001b[0m\u001b[0;34m(\u001b[0m\u001b[0mkey\u001b[0m\u001b[0;34m)\u001b[0m\u001b[0;34m\u001b[0m\u001b[0;34m\u001b[0m\u001b[0m\n\u001b[0m\u001b[1;32m   3459\u001b[0m             \u001b[0;32mif\u001b[0m \u001b[0mis_integer\u001b[0m\u001b[0;34m(\u001b[0m\u001b[0mindexer\u001b[0m\u001b[0;34m)\u001b[0m\u001b[0;34m:\u001b[0m\u001b[0;34m\u001b[0m\u001b[0;34m\u001b[0m\u001b[0m\n\u001b[1;32m   3460\u001b[0m                 \u001b[0mindexer\u001b[0m \u001b[0;34m=\u001b[0m \u001b[0;34m[\u001b[0m\u001b[0mindexer\u001b[0m\u001b[0;34m]\u001b[0m\u001b[0;34m\u001b[0m\u001b[0;34m\u001b[0m\u001b[0m\n",
            "\u001b[0;32m/usr/local/lib/python3.8/dist-packages/pandas/core/indexes/base.py\u001b[0m in \u001b[0;36mget_loc\u001b[0;34m(self, key, method, tolerance)\u001b[0m\n\u001b[1;32m   3361\u001b[0m                 \u001b[0;32mreturn\u001b[0m \u001b[0mself\u001b[0m\u001b[0;34m.\u001b[0m\u001b[0m_engine\u001b[0m\u001b[0;34m.\u001b[0m\u001b[0mget_loc\u001b[0m\u001b[0;34m(\u001b[0m\u001b[0mcasted_key\u001b[0m\u001b[0;34m)\u001b[0m\u001b[0;34m\u001b[0m\u001b[0;34m\u001b[0m\u001b[0m\n\u001b[1;32m   3362\u001b[0m             \u001b[0;32mexcept\u001b[0m \u001b[0mKeyError\u001b[0m \u001b[0;32mas\u001b[0m \u001b[0merr\u001b[0m\u001b[0;34m:\u001b[0m\u001b[0;34m\u001b[0m\u001b[0;34m\u001b[0m\u001b[0m\n\u001b[0;32m-> 3363\u001b[0;31m                 \u001b[0;32mraise\u001b[0m \u001b[0mKeyError\u001b[0m\u001b[0;34m(\u001b[0m\u001b[0mkey\u001b[0m\u001b[0;34m)\u001b[0m \u001b[0;32mfrom\u001b[0m \u001b[0merr\u001b[0m\u001b[0;34m\u001b[0m\u001b[0;34m\u001b[0m\u001b[0m\n\u001b[0m\u001b[1;32m   3364\u001b[0m \u001b[0;34m\u001b[0m\u001b[0m\n\u001b[1;32m   3365\u001b[0m         \u001b[0;32mif\u001b[0m \u001b[0mis_scalar\u001b[0m\u001b[0;34m(\u001b[0m\u001b[0mkey\u001b[0m\u001b[0;34m)\u001b[0m \u001b[0;32mand\u001b[0m \u001b[0misna\u001b[0m\u001b[0;34m(\u001b[0m\u001b[0mkey\u001b[0m\u001b[0;34m)\u001b[0m \u001b[0;32mand\u001b[0m \u001b[0;32mnot\u001b[0m \u001b[0mself\u001b[0m\u001b[0;34m.\u001b[0m\u001b[0mhasnans\u001b[0m\u001b[0;34m:\u001b[0m\u001b[0;34m\u001b[0m\u001b[0;34m\u001b[0m\u001b[0m\n",
            "\u001b[0;31mKeyError\u001b[0m: 'purchase'"
          ]
        }
      ],
      "source": [
        "data['purchase'].value_counts()"
      ]
    },
    {
      "cell_type": "code",
      "source": [
        "k1 = data[data['ab_group']=='A']['purchase'].sum()\n",
        "k2 = data[data['ab_group']=='B']['purchase'].sum()"
      ],
      "metadata": {
        "id": "KiTwAx81x21y"
      },
      "execution_count": null,
      "outputs": []
    },
    {
      "cell_type": "code",
      "source": [
        "n1 = data[data['ab_group']=='A'].shape[0]\n",
        "n2 = data[data['ab_group']=='B'].shape[0]"
      ],
      "metadata": {
        "id": "mhE9_jE1x4fe"
      },
      "execution_count": null,
      "outputs": []
    },
    {
      "cell_type": "code",
      "source": [
        "from statsmodels.stats import proportion\n",
        "\n",
        "z_score, z_pvalue = proportion.proportions_ztest(np.array([k1, k2]), \n",
        "                                                   np.array([n1, n2]))\n",
        "print('Results are ','z_score =%.3f, pvalue = %.3f'%(z_score, z_pvalue))"
      ],
      "metadata": {
        "colab": {
          "base_uri": "https://localhost:8080/"
        },
        "id": "cZIy0FaWx522",
        "outputId": "43be3f4f-4d8a-46e6-8c4a-0e47f1333afc"
      },
      "execution_count": null,
      "outputs": [
        {
          "output_type": "stream",
          "name": "stdout",
          "text": [
            "Results are  z_score =0.987, pvalue = 0.323\n"
          ]
        }
      ]
    },
    {
      "cell_type": "code",
      "source": [
        "if abs(z_pvalue) < 0.05:\n",
        "    print(\"We may reject the null hypothesis!\")\n",
        "else:\n",
        "    print(\"We have failed to reject the null hypothesis\")"
      ],
      "metadata": {
        "colab": {
          "base_uri": "https://localhost:8080/"
        },
        "id": "yWjJTgwyx8CK",
        "outputId": "961f0013-eab4-44df-9785-fd9f727f98b1"
      },
      "execution_count": null,
      "outputs": [
        {
          "output_type": "stream",
          "name": "stdout",
          "text": [
            "We have failed to reject the null hypothesis\n"
          ]
        }
      ]
    },
    {
      "cell_type": "markdown",
      "source": [
        "Непараметрический Хи-квадрат"
      ],
      "metadata": {
        "id": "wdCtEp-Bx_v-"
      }
    },
    {
      "cell_type": "code",
      "source": [
        "chisq, pvalue, table = proportion.proportions_chisquare(np.array([k1, k2]), \n",
        "                                                   np.array([n1, n2]))\n",
        "\n",
        "print('Results are ','chisq =%.3f, pvalue = %.3f'%(chisq, pvalue))"
      ],
      "metadata": {
        "colab": {
          "base_uri": "https://localhost:8080/"
        },
        "id": "cDLk6dKcyCLr",
        "outputId": "e1bf0be7-3458-4f6e-9ec1-31b8b6f7c682"
      },
      "execution_count": null,
      "outputs": [
        {
          "output_type": "stream",
          "name": "stdout",
          "text": [
            "Results are  chisq =0.975, pvalue = 0.323\n"
          ]
        }
      ]
    },
    {
      "cell_type": "code",
      "source": [
        "if abs(pvalue) < 0.05:\n",
        "    print(\"We may reject the null hypothesis!\")\n",
        "else:\n",
        "    print(\"We have failed to reject the null hypothesis\")"
      ],
      "metadata": {
        "id": "e1Q2VtagyECk",
        "colab": {
          "base_uri": "https://localhost:8080/"
        },
        "outputId": "369cac89-e002-484e-b74b-00f4337e7405"
      },
      "execution_count": null,
      "outputs": [
        {
          "output_type": "stream",
          "name": "stdout",
          "text": [
            "We have failed to reject the null hypothesis\n"
          ]
        }
      ]
    },
    {
      "cell_type": "code",
      "source": [],
      "metadata": {
        "id": "ZqAqkFrCt2D-"
      },
      "execution_count": null,
      "outputs": []
    },
    {
      "cell_type": "markdown",
      "source": [
        "#Метрика arpu"
      ],
      "metadata": {
        "id": "N1YZ76cot3qt"
      }
    },
    {
      "cell_type": "code",
      "source": [
        "alpha = 0.05\n",
        "\n",
        "st = stats.shapiro(data1.revenue)\n",
        "print('Distribution is {}normal\\n'.format( {True:'not ',\n",
        "False:''}[st[1] < alpha]));"
      ],
      "metadata": {
        "colab": {
          "base_uri": "https://localhost:8080/",
          "height": 356
        },
        "id": "zjBIiDqEKhQO",
        "outputId": "65bb81dc-4a22-4696-d510-fd5d6656e9a5"
      },
      "execution_count": null,
      "outputs": [
        {
          "output_type": "error",
          "ename": "AttributeError",
          "evalue": "ignored",
          "traceback": [
            "\u001b[0;31m---------------------------------------------------------------------------\u001b[0m",
            "\u001b[0;31mAttributeError\u001b[0m                            Traceback (most recent call last)",
            "\u001b[0;32m<ipython-input-139-6a19b049007b>\u001b[0m in \u001b[0;36m<module>\u001b[0;34m\u001b[0m\n\u001b[1;32m      1\u001b[0m \u001b[0malpha\u001b[0m \u001b[0;34m=\u001b[0m \u001b[0;36m0.05\u001b[0m\u001b[0;34m\u001b[0m\u001b[0;34m\u001b[0m\u001b[0m\n\u001b[1;32m      2\u001b[0m \u001b[0;34m\u001b[0m\u001b[0m\n\u001b[0;32m----> 3\u001b[0;31m \u001b[0mst\u001b[0m \u001b[0;34m=\u001b[0m \u001b[0mstats\u001b[0m\u001b[0;34m.\u001b[0m\u001b[0mshapiro\u001b[0m\u001b[0;34m(\u001b[0m\u001b[0mdata\u001b[0m\u001b[0;34m.\u001b[0m\u001b[0mrevenue\u001b[0m\u001b[0;34m)\u001b[0m\u001b[0;34m\u001b[0m\u001b[0;34m\u001b[0m\u001b[0m\n\u001b[0m\u001b[1;32m      4\u001b[0m print('Distribution is {}normal\\n'.format( {True:'not ',\n\u001b[1;32m      5\u001b[0m False:''}[st[1] < alpha]));\n",
            "\u001b[0;32m/usr/local/lib/python3.8/dist-packages/pandas/core/generic.py\u001b[0m in \u001b[0;36m__getattr__\u001b[0;34m(self, name)\u001b[0m\n\u001b[1;32m   5485\u001b[0m         ):\n\u001b[1;32m   5486\u001b[0m             \u001b[0;32mreturn\u001b[0m \u001b[0mself\u001b[0m\u001b[0;34m[\u001b[0m\u001b[0mname\u001b[0m\u001b[0;34m]\u001b[0m\u001b[0;34m\u001b[0m\u001b[0;34m\u001b[0m\u001b[0m\n\u001b[0;32m-> 5487\u001b[0;31m         \u001b[0;32mreturn\u001b[0m \u001b[0mobject\u001b[0m\u001b[0;34m.\u001b[0m\u001b[0m__getattribute__\u001b[0m\u001b[0;34m(\u001b[0m\u001b[0mself\u001b[0m\u001b[0;34m,\u001b[0m \u001b[0mname\u001b[0m\u001b[0;34m)\u001b[0m\u001b[0;34m\u001b[0m\u001b[0;34m\u001b[0m\u001b[0m\n\u001b[0m\u001b[1;32m   5488\u001b[0m \u001b[0;34m\u001b[0m\u001b[0m\n\u001b[1;32m   5489\u001b[0m     \u001b[0;32mdef\u001b[0m \u001b[0m__setattr__\u001b[0m\u001b[0;34m(\u001b[0m\u001b[0mself\u001b[0m\u001b[0;34m,\u001b[0m \u001b[0mname\u001b[0m\u001b[0;34m:\u001b[0m \u001b[0mstr\u001b[0m\u001b[0;34m,\u001b[0m \u001b[0mvalue\u001b[0m\u001b[0;34m)\u001b[0m \u001b[0;34m->\u001b[0m \u001b[0;32mNone\u001b[0m\u001b[0;34m:\u001b[0m\u001b[0;34m\u001b[0m\u001b[0;34m\u001b[0m\u001b[0m\n",
            "\u001b[0;31mAttributeError\u001b[0m: 'DataFrame' object has no attribute 'revenue'"
          ]
        }
      ]
    },
    {
      "cell_type": "markdown",
      "source": [
        "\n",
        " Непараметрический критерий  Манн-Уитни"
      ],
      "metadata": {
        "id": "Ny3D_-1DyHWo"
      }
    },
    {
      "cell_type": "code",
      "source": [
        "data.groupby('ab_group')['revenue'].describe()"
      ],
      "metadata": {
        "id": "5AmhiCeXyGiC",
        "colab": {
          "base_uri": "https://localhost:8080/",
          "height": 143
        },
        "outputId": "96a3eaf5-8980-4226-c192-fea0f88d190e"
      },
      "execution_count": null,
      "outputs": [
        {
          "output_type": "execute_result",
          "data": {
            "text/plain": [
              "            count      mean        std  min  25%  50%  75%          max\n",
              "ab_group                                                               \n",
              "A         11835.0  0.404462  13.133218  0.0  0.0  0.0  0.0  1303.609284\n",
              "B         11817.0  0.244794   3.176534  0.0  0.0  0.0  0.0   113.830000"
            ],
            "text/html": [
              "\n",
              "  <div id=\"df-a7b191bd-9f8b-407d-8be0-67b71618a777\">\n",
              "    <div class=\"colab-df-container\">\n",
              "      <div>\n",
              "<style scoped>\n",
              "    .dataframe tbody tr th:only-of-type {\n",
              "        vertical-align: middle;\n",
              "    }\n",
              "\n",
              "    .dataframe tbody tr th {\n",
              "        vertical-align: top;\n",
              "    }\n",
              "\n",
              "    .dataframe thead th {\n",
              "        text-align: right;\n",
              "    }\n",
              "</style>\n",
              "<table border=\"1\" class=\"dataframe\">\n",
              "  <thead>\n",
              "    <tr style=\"text-align: right;\">\n",
              "      <th></th>\n",
              "      <th>count</th>\n",
              "      <th>mean</th>\n",
              "      <th>std</th>\n",
              "      <th>min</th>\n",
              "      <th>25%</th>\n",
              "      <th>50%</th>\n",
              "      <th>75%</th>\n",
              "      <th>max</th>\n",
              "    </tr>\n",
              "    <tr>\n",
              "      <th>ab_group</th>\n",
              "      <th></th>\n",
              "      <th></th>\n",
              "      <th></th>\n",
              "      <th></th>\n",
              "      <th></th>\n",
              "      <th></th>\n",
              "      <th></th>\n",
              "      <th></th>\n",
              "    </tr>\n",
              "  </thead>\n",
              "  <tbody>\n",
              "    <tr>\n",
              "      <th>A</th>\n",
              "      <td>11835.0</td>\n",
              "      <td>0.404462</td>\n",
              "      <td>13.133218</td>\n",
              "      <td>0.0</td>\n",
              "      <td>0.0</td>\n",
              "      <td>0.0</td>\n",
              "      <td>0.0</td>\n",
              "      <td>1303.609284</td>\n",
              "    </tr>\n",
              "    <tr>\n",
              "      <th>B</th>\n",
              "      <td>11817.0</td>\n",
              "      <td>0.244794</td>\n",
              "      <td>3.176534</td>\n",
              "      <td>0.0</td>\n",
              "      <td>0.0</td>\n",
              "      <td>0.0</td>\n",
              "      <td>0.0</td>\n",
              "      <td>113.830000</td>\n",
              "    </tr>\n",
              "  </tbody>\n",
              "</table>\n",
              "</div>\n",
              "      <button class=\"colab-df-convert\" onclick=\"convertToInteractive('df-a7b191bd-9f8b-407d-8be0-67b71618a777')\"\n",
              "              title=\"Convert this dataframe to an interactive table.\"\n",
              "              style=\"display:none;\">\n",
              "        \n",
              "  <svg xmlns=\"http://www.w3.org/2000/svg\" height=\"24px\"viewBox=\"0 0 24 24\"\n",
              "       width=\"24px\">\n",
              "    <path d=\"M0 0h24v24H0V0z\" fill=\"none\"/>\n",
              "    <path d=\"M18.56 5.44l.94 2.06.94-2.06 2.06-.94-2.06-.94-.94-2.06-.94 2.06-2.06.94zm-11 1L8.5 8.5l.94-2.06 2.06-.94-2.06-.94L8.5 2.5l-.94 2.06-2.06.94zm10 10l.94 2.06.94-2.06 2.06-.94-2.06-.94-.94-2.06-.94 2.06-2.06.94z\"/><path d=\"M17.41 7.96l-1.37-1.37c-.4-.4-.92-.59-1.43-.59-.52 0-1.04.2-1.43.59L10.3 9.45l-7.72 7.72c-.78.78-.78 2.05 0 2.83L4 21.41c.39.39.9.59 1.41.59.51 0 1.02-.2 1.41-.59l7.78-7.78 2.81-2.81c.8-.78.8-2.07 0-2.86zM5.41 20L4 18.59l7.72-7.72 1.47 1.35L5.41 20z\"/>\n",
              "  </svg>\n",
              "      </button>\n",
              "      \n",
              "  <style>\n",
              "    .colab-df-container {\n",
              "      display:flex;\n",
              "      flex-wrap:wrap;\n",
              "      gap: 12px;\n",
              "    }\n",
              "\n",
              "    .colab-df-convert {\n",
              "      background-color: #E8F0FE;\n",
              "      border: none;\n",
              "      border-radius: 50%;\n",
              "      cursor: pointer;\n",
              "      display: none;\n",
              "      fill: #1967D2;\n",
              "      height: 32px;\n",
              "      padding: 0 0 0 0;\n",
              "      width: 32px;\n",
              "    }\n",
              "\n",
              "    .colab-df-convert:hover {\n",
              "      background-color: #E2EBFA;\n",
              "      box-shadow: 0px 1px 2px rgba(60, 64, 67, 0.3), 0px 1px 3px 1px rgba(60, 64, 67, 0.15);\n",
              "      fill: #174EA6;\n",
              "    }\n",
              "\n",
              "    [theme=dark] .colab-df-convert {\n",
              "      background-color: #3B4455;\n",
              "      fill: #D2E3FC;\n",
              "    }\n",
              "\n",
              "    [theme=dark] .colab-df-convert:hover {\n",
              "      background-color: #434B5C;\n",
              "      box-shadow: 0px 1px 3px 1px rgba(0, 0, 0, 0.15);\n",
              "      filter: drop-shadow(0px 1px 2px rgba(0, 0, 0, 0.3));\n",
              "      fill: #FFFFFF;\n",
              "    }\n",
              "  </style>\n",
              "\n",
              "      <script>\n",
              "        const buttonEl =\n",
              "          document.querySelector('#df-a7b191bd-9f8b-407d-8be0-67b71618a777 button.colab-df-convert');\n",
              "        buttonEl.style.display =\n",
              "          google.colab.kernel.accessAllowed ? 'block' : 'none';\n",
              "\n",
              "        async function convertToInteractive(key) {\n",
              "          const element = document.querySelector('#df-a7b191bd-9f8b-407d-8be0-67b71618a777');\n",
              "          const dataTable =\n",
              "            await google.colab.kernel.invokeFunction('convertToInteractive',\n",
              "                                                     [key], {});\n",
              "          if (!dataTable) return;\n",
              "\n",
              "          const docLinkHtml = 'Like what you see? Visit the ' +\n",
              "            '<a target=\"_blank\" href=https://colab.research.google.com/notebooks/data_table.ipynb>data table notebook</a>'\n",
              "            + ' to learn more about interactive tables.';\n",
              "          element.innerHTML = '';\n",
              "          dataTable['output_type'] = 'display_data';\n",
              "          await google.colab.output.renderOutput(dataTable, element);\n",
              "          const docLink = document.createElement('div');\n",
              "          docLink.innerHTML = docLinkHtml;\n",
              "          element.appendChild(docLink);\n",
              "        }\n",
              "      </script>\n",
              "    </div>\n",
              "  </div>\n",
              "  "
            ]
          },
          "metadata": {},
          "execution_count": 91
        }
      ]
    },
    {
      "cell_type": "code",
      "source": [
        "mw_stats = stats.mannwhitneyu(x=data[(data['ab_group'] == 'A')&(data['purchase'] == 1)]['revenue'].values,\n",
        "                                                  y=data[(data['ab_group'] == 'B')&(data['purchase'] == 1)]['revenue'].values)\n",
        "mw_stats"
      ],
      "metadata": {
        "id": "llW-onHYyX05",
        "colab": {
          "base_uri": "https://localhost:8080/",
          "height": 502
        },
        "outputId": "ab564ff9-2a2c-4967-daba-6b40f1c716e9"
      },
      "execution_count": null,
      "outputs": [
        {
          "output_type": "error",
          "ename": "KeyError",
          "evalue": "ignored",
          "traceback": [
            "\u001b[0;31m---------------------------------------------------------------------------\u001b[0m",
            "\u001b[0;31mKeyError\u001b[0m                                  Traceback (most recent call last)",
            "\u001b[0;32m/usr/local/lib/python3.8/dist-packages/pandas/core/indexes/base.py\u001b[0m in \u001b[0;36mget_loc\u001b[0;34m(self, key, method, tolerance)\u001b[0m\n\u001b[1;32m   3360\u001b[0m             \u001b[0;32mtry\u001b[0m\u001b[0;34m:\u001b[0m\u001b[0;34m\u001b[0m\u001b[0;34m\u001b[0m\u001b[0m\n\u001b[0;32m-> 3361\u001b[0;31m                 \u001b[0;32mreturn\u001b[0m \u001b[0mself\u001b[0m\u001b[0;34m.\u001b[0m\u001b[0m_engine\u001b[0m\u001b[0;34m.\u001b[0m\u001b[0mget_loc\u001b[0m\u001b[0;34m(\u001b[0m\u001b[0mcasted_key\u001b[0m\u001b[0;34m)\u001b[0m\u001b[0;34m\u001b[0m\u001b[0;34m\u001b[0m\u001b[0m\n\u001b[0m\u001b[1;32m   3362\u001b[0m             \u001b[0;32mexcept\u001b[0m \u001b[0mKeyError\u001b[0m \u001b[0;32mas\u001b[0m \u001b[0merr\u001b[0m\u001b[0;34m:\u001b[0m\u001b[0;34m\u001b[0m\u001b[0;34m\u001b[0m\u001b[0m\n",
            "\u001b[0;32m/usr/local/lib/python3.8/dist-packages/pandas/_libs/index.pyx\u001b[0m in \u001b[0;36mpandas._libs.index.IndexEngine.get_loc\u001b[0;34m()\u001b[0m\n",
            "\u001b[0;32m/usr/local/lib/python3.8/dist-packages/pandas/_libs/index.pyx\u001b[0m in \u001b[0;36mpandas._libs.index.IndexEngine.get_loc\u001b[0;34m()\u001b[0m\n",
            "\u001b[0;32mpandas/_libs/hashtable_class_helper.pxi\u001b[0m in \u001b[0;36mpandas._libs.hashtable.PyObjectHashTable.get_item\u001b[0;34m()\u001b[0m\n",
            "\u001b[0;32mpandas/_libs/hashtable_class_helper.pxi\u001b[0m in \u001b[0;36mpandas._libs.hashtable.PyObjectHashTable.get_item\u001b[0;34m()\u001b[0m\n",
            "\u001b[0;31mKeyError\u001b[0m: 'ab_group'",
            "\nThe above exception was the direct cause of the following exception:\n",
            "\u001b[0;31mKeyError\u001b[0m                                  Traceback (most recent call last)",
            "\u001b[0;32m<ipython-input-140-617e9bb737ea>\u001b[0m in \u001b[0;36m<module>\u001b[0;34m\u001b[0m\n\u001b[0;32m----> 1\u001b[0;31m mw_stats = stats.mannwhitneyu(x=data[(data['ab_group'] == 'A')&(data['purchase'] == 1)]['revenue'].values,\n\u001b[0m\u001b[1;32m      2\u001b[0m                                                   y=data[(data['ab_group'] == 'B')&(data['purchase'] == 1)]['revenue'].values)\n\u001b[1;32m      3\u001b[0m \u001b[0mmw_stats\u001b[0m\u001b[0;34m\u001b[0m\u001b[0;34m\u001b[0m\u001b[0m\n",
            "\u001b[0;32m/usr/local/lib/python3.8/dist-packages/pandas/core/frame.py\u001b[0m in \u001b[0;36m__getitem__\u001b[0;34m(self, key)\u001b[0m\n\u001b[1;32m   3456\u001b[0m             \u001b[0;32mif\u001b[0m \u001b[0mself\u001b[0m\u001b[0;34m.\u001b[0m\u001b[0mcolumns\u001b[0m\u001b[0;34m.\u001b[0m\u001b[0mnlevels\u001b[0m \u001b[0;34m>\u001b[0m \u001b[0;36m1\u001b[0m\u001b[0;34m:\u001b[0m\u001b[0;34m\u001b[0m\u001b[0;34m\u001b[0m\u001b[0m\n\u001b[1;32m   3457\u001b[0m                 \u001b[0;32mreturn\u001b[0m \u001b[0mself\u001b[0m\u001b[0;34m.\u001b[0m\u001b[0m_getitem_multilevel\u001b[0m\u001b[0;34m(\u001b[0m\u001b[0mkey\u001b[0m\u001b[0;34m)\u001b[0m\u001b[0;34m\u001b[0m\u001b[0;34m\u001b[0m\u001b[0m\n\u001b[0;32m-> 3458\u001b[0;31m             \u001b[0mindexer\u001b[0m \u001b[0;34m=\u001b[0m \u001b[0mself\u001b[0m\u001b[0;34m.\u001b[0m\u001b[0mcolumns\u001b[0m\u001b[0;34m.\u001b[0m\u001b[0mget_loc\u001b[0m\u001b[0;34m(\u001b[0m\u001b[0mkey\u001b[0m\u001b[0;34m)\u001b[0m\u001b[0;34m\u001b[0m\u001b[0;34m\u001b[0m\u001b[0m\n\u001b[0m\u001b[1;32m   3459\u001b[0m             \u001b[0;32mif\u001b[0m \u001b[0mis_integer\u001b[0m\u001b[0;34m(\u001b[0m\u001b[0mindexer\u001b[0m\u001b[0;34m)\u001b[0m\u001b[0;34m:\u001b[0m\u001b[0;34m\u001b[0m\u001b[0;34m\u001b[0m\u001b[0m\n\u001b[1;32m   3460\u001b[0m                 \u001b[0mindexer\u001b[0m \u001b[0;34m=\u001b[0m \u001b[0;34m[\u001b[0m\u001b[0mindexer\u001b[0m\u001b[0;34m]\u001b[0m\u001b[0;34m\u001b[0m\u001b[0;34m\u001b[0m\u001b[0m\n",
            "\u001b[0;32m/usr/local/lib/python3.8/dist-packages/pandas/core/indexes/base.py\u001b[0m in \u001b[0;36mget_loc\u001b[0;34m(self, key, method, tolerance)\u001b[0m\n\u001b[1;32m   3361\u001b[0m                 \u001b[0;32mreturn\u001b[0m \u001b[0mself\u001b[0m\u001b[0;34m.\u001b[0m\u001b[0m_engine\u001b[0m\u001b[0;34m.\u001b[0m\u001b[0mget_loc\u001b[0m\u001b[0;34m(\u001b[0m\u001b[0mcasted_key\u001b[0m\u001b[0;34m)\u001b[0m\u001b[0;34m\u001b[0m\u001b[0;34m\u001b[0m\u001b[0m\n\u001b[1;32m   3362\u001b[0m             \u001b[0;32mexcept\u001b[0m \u001b[0mKeyError\u001b[0m \u001b[0;32mas\u001b[0m \u001b[0merr\u001b[0m\u001b[0;34m:\u001b[0m\u001b[0;34m\u001b[0m\u001b[0;34m\u001b[0m\u001b[0m\n\u001b[0;32m-> 3363\u001b[0;31m                 \u001b[0;32mraise\u001b[0m \u001b[0mKeyError\u001b[0m\u001b[0;34m(\u001b[0m\u001b[0mkey\u001b[0m\u001b[0;34m)\u001b[0m \u001b[0;32mfrom\u001b[0m \u001b[0merr\u001b[0m\u001b[0;34m\u001b[0m\u001b[0;34m\u001b[0m\u001b[0m\n\u001b[0m\u001b[1;32m   3364\u001b[0m \u001b[0;34m\u001b[0m\u001b[0m\n\u001b[1;32m   3365\u001b[0m         \u001b[0;32mif\u001b[0m \u001b[0mis_scalar\u001b[0m\u001b[0;34m(\u001b[0m\u001b[0mkey\u001b[0m\u001b[0;34m)\u001b[0m \u001b[0;32mand\u001b[0m \u001b[0misna\u001b[0m\u001b[0;34m(\u001b[0m\u001b[0mkey\u001b[0m\u001b[0;34m)\u001b[0m \u001b[0;32mand\u001b[0m \u001b[0;32mnot\u001b[0m \u001b[0mself\u001b[0m\u001b[0;34m.\u001b[0m\u001b[0mhasnans\u001b[0m\u001b[0;34m:\u001b[0m\u001b[0;34m\u001b[0m\u001b[0;34m\u001b[0m\u001b[0m\n",
            "\u001b[0;31mKeyError\u001b[0m: 'ab_group'"
          ]
        }
      ]
    },
    {
      "cell_type": "code",
      "source": [],
      "metadata": {
        "id": "Ogx6ySO90EW_"
      },
      "execution_count": null,
      "outputs": []
    },
    {
      "cell_type": "code",
      "source": [],
      "metadata": {
        "id": "-PEYbt67uVPO"
      },
      "execution_count": null,
      "outputs": []
    },
    {
      "cell_type": "markdown",
      "source": [
        "##Рассмотрим кейс с рекламной выручкой"
      ],
      "metadata": {
        "id": "i7X5okL7uVe_"
      }
    },
    {
      "cell_type": "code",
      "source": [
        "import pandas as pd\n",
        "import numpy as np\n",
        "import matplotlib.pyplot as plt\n",
        "from google_drive_downloader import GoogleDriveDownloader as gdd\n",
        "\n",
        "gdd.download_file_from_google_drive(file_id='1IGMgJP_XqQwA6h_w1KYG7TQJhS15h4c4',\n",
        "                                    dest_path='./test.xlsx');"
      ],
      "metadata": {
        "id": "XYSseh5xuZFW"
      },
      "execution_count": null,
      "outputs": []
    },
    {
      "cell_type": "code",
      "source": [
        "df = pd.read_excel('test.xlsx')"
      ],
      "metadata": {
        "id": "Z6k1XSvbucLH"
      },
      "execution_count": null,
      "outputs": []
    },
    {
      "cell_type": "code",
      "source": [
        "df.head(10)"
      ],
      "metadata": {
        "colab": {
          "base_uri": "https://localhost:8080/",
          "height": 363
        },
        "id": "nwT2wO5qulhA",
        "outputId": "b70e77ae-2f1a-477a-bb37-89958ad1a26f"
      },
      "execution_count": null,
      "outputs": [
        {
          "output_type": "execute_result",
          "data": {
            "text/plain": [
              "   USER_ID VARIANT_NAME  REVENUE\n",
              "0      737      variant      0.0\n",
              "1     2423      control      0.0\n",
              "2     9411      control      0.0\n",
              "3     7311      control      0.0\n",
              "4     6174      variant      0.0\n",
              "5     2380      variant      0.0\n",
              "6     2849      control      0.0\n",
              "7     9168      control      0.0\n",
              "8     6205      variant      0.0\n",
              "9     7548      control      0.0"
            ],
            "text/html": [
              "\n",
              "  <div id=\"df-3a62dc7f-18ba-4063-9546-218779c9e61f\">\n",
              "    <div class=\"colab-df-container\">\n",
              "      <div>\n",
              "<style scoped>\n",
              "    .dataframe tbody tr th:only-of-type {\n",
              "        vertical-align: middle;\n",
              "    }\n",
              "\n",
              "    .dataframe tbody tr th {\n",
              "        vertical-align: top;\n",
              "    }\n",
              "\n",
              "    .dataframe thead th {\n",
              "        text-align: right;\n",
              "    }\n",
              "</style>\n",
              "<table border=\"1\" class=\"dataframe\">\n",
              "  <thead>\n",
              "    <tr style=\"text-align: right;\">\n",
              "      <th></th>\n",
              "      <th>USER_ID</th>\n",
              "      <th>VARIANT_NAME</th>\n",
              "      <th>REVENUE</th>\n",
              "    </tr>\n",
              "  </thead>\n",
              "  <tbody>\n",
              "    <tr>\n",
              "      <th>0</th>\n",
              "      <td>737</td>\n",
              "      <td>variant</td>\n",
              "      <td>0.0</td>\n",
              "    </tr>\n",
              "    <tr>\n",
              "      <th>1</th>\n",
              "      <td>2423</td>\n",
              "      <td>control</td>\n",
              "      <td>0.0</td>\n",
              "    </tr>\n",
              "    <tr>\n",
              "      <th>2</th>\n",
              "      <td>9411</td>\n",
              "      <td>control</td>\n",
              "      <td>0.0</td>\n",
              "    </tr>\n",
              "    <tr>\n",
              "      <th>3</th>\n",
              "      <td>7311</td>\n",
              "      <td>control</td>\n",
              "      <td>0.0</td>\n",
              "    </tr>\n",
              "    <tr>\n",
              "      <th>4</th>\n",
              "      <td>6174</td>\n",
              "      <td>variant</td>\n",
              "      <td>0.0</td>\n",
              "    </tr>\n",
              "    <tr>\n",
              "      <th>5</th>\n",
              "      <td>2380</td>\n",
              "      <td>variant</td>\n",
              "      <td>0.0</td>\n",
              "    </tr>\n",
              "    <tr>\n",
              "      <th>6</th>\n",
              "      <td>2849</td>\n",
              "      <td>control</td>\n",
              "      <td>0.0</td>\n",
              "    </tr>\n",
              "    <tr>\n",
              "      <th>7</th>\n",
              "      <td>9168</td>\n",
              "      <td>control</td>\n",
              "      <td>0.0</td>\n",
              "    </tr>\n",
              "    <tr>\n",
              "      <th>8</th>\n",
              "      <td>6205</td>\n",
              "      <td>variant</td>\n",
              "      <td>0.0</td>\n",
              "    </tr>\n",
              "    <tr>\n",
              "      <th>9</th>\n",
              "      <td>7548</td>\n",
              "      <td>control</td>\n",
              "      <td>0.0</td>\n",
              "    </tr>\n",
              "  </tbody>\n",
              "</table>\n",
              "</div>\n",
              "      <button class=\"colab-df-convert\" onclick=\"convertToInteractive('df-3a62dc7f-18ba-4063-9546-218779c9e61f')\"\n",
              "              title=\"Convert this dataframe to an interactive table.\"\n",
              "              style=\"display:none;\">\n",
              "        \n",
              "  <svg xmlns=\"http://www.w3.org/2000/svg\" height=\"24px\"viewBox=\"0 0 24 24\"\n",
              "       width=\"24px\">\n",
              "    <path d=\"M0 0h24v24H0V0z\" fill=\"none\"/>\n",
              "    <path d=\"M18.56 5.44l.94 2.06.94-2.06 2.06-.94-2.06-.94-.94-2.06-.94 2.06-2.06.94zm-11 1L8.5 8.5l.94-2.06 2.06-.94-2.06-.94L8.5 2.5l-.94 2.06-2.06.94zm10 10l.94 2.06.94-2.06 2.06-.94-2.06-.94-.94-2.06-.94 2.06-2.06.94z\"/><path d=\"M17.41 7.96l-1.37-1.37c-.4-.4-.92-.59-1.43-.59-.52 0-1.04.2-1.43.59L10.3 9.45l-7.72 7.72c-.78.78-.78 2.05 0 2.83L4 21.41c.39.39.9.59 1.41.59.51 0 1.02-.2 1.41-.59l7.78-7.78 2.81-2.81c.8-.78.8-2.07 0-2.86zM5.41 20L4 18.59l7.72-7.72 1.47 1.35L5.41 20z\"/>\n",
              "  </svg>\n",
              "      </button>\n",
              "      \n",
              "  <style>\n",
              "    .colab-df-container {\n",
              "      display:flex;\n",
              "      flex-wrap:wrap;\n",
              "      gap: 12px;\n",
              "    }\n",
              "\n",
              "    .colab-df-convert {\n",
              "      background-color: #E8F0FE;\n",
              "      border: none;\n",
              "      border-radius: 50%;\n",
              "      cursor: pointer;\n",
              "      display: none;\n",
              "      fill: #1967D2;\n",
              "      height: 32px;\n",
              "      padding: 0 0 0 0;\n",
              "      width: 32px;\n",
              "    }\n",
              "\n",
              "    .colab-df-convert:hover {\n",
              "      background-color: #E2EBFA;\n",
              "      box-shadow: 0px 1px 2px rgba(60, 64, 67, 0.3), 0px 1px 3px 1px rgba(60, 64, 67, 0.15);\n",
              "      fill: #174EA6;\n",
              "    }\n",
              "\n",
              "    [theme=dark] .colab-df-convert {\n",
              "      background-color: #3B4455;\n",
              "      fill: #D2E3FC;\n",
              "    }\n",
              "\n",
              "    [theme=dark] .colab-df-convert:hover {\n",
              "      background-color: #434B5C;\n",
              "      box-shadow: 0px 1px 3px 1px rgba(0, 0, 0, 0.15);\n",
              "      filter: drop-shadow(0px 1px 2px rgba(0, 0, 0, 0.3));\n",
              "      fill: #FFFFFF;\n",
              "    }\n",
              "  </style>\n",
              "\n",
              "      <script>\n",
              "        const buttonEl =\n",
              "          document.querySelector('#df-3a62dc7f-18ba-4063-9546-218779c9e61f button.colab-df-convert');\n",
              "        buttonEl.style.display =\n",
              "          google.colab.kernel.accessAllowed ? 'block' : 'none';\n",
              "\n",
              "        async function convertToInteractive(key) {\n",
              "          const element = document.querySelector('#df-3a62dc7f-18ba-4063-9546-218779c9e61f');\n",
              "          const dataTable =\n",
              "            await google.colab.kernel.invokeFunction('convertToInteractive',\n",
              "                                                     [key], {});\n",
              "          if (!dataTable) return;\n",
              "\n",
              "          const docLinkHtml = 'Like what you see? Visit the ' +\n",
              "            '<a target=\"_blank\" href=https://colab.research.google.com/notebooks/data_table.ipynb>data table notebook</a>'\n",
              "            + ' to learn more about interactive tables.';\n",
              "          element.innerHTML = '';\n",
              "          dataTable['output_type'] = 'display_data';\n",
              "          await google.colab.output.renderOutput(dataTable, element);\n",
              "          const docLink = document.createElement('div');\n",
              "          docLink.innerHTML = docLinkHtml;\n",
              "          element.appendChild(docLink);\n",
              "        }\n",
              "      </script>\n",
              "    </div>\n",
              "  </div>\n",
              "  "
            ]
          },
          "metadata": {},
          "execution_count": 95
        }
      ]
    },
    {
      "cell_type": "code",
      "source": [
        "df.info()"
      ],
      "metadata": {
        "colab": {
          "base_uri": "https://localhost:8080/"
        },
        "id": "mMi3vV10umiT",
        "outputId": "d8d0dc4a-10d7-4b47-be70-ecb9ae9498ce"
      },
      "execution_count": null,
      "outputs": [
        {
          "output_type": "stream",
          "name": "stdout",
          "text": [
            "<class 'pandas.core.frame.DataFrame'>\n",
            "RangeIndex: 10000 entries, 0 to 9999\n",
            "Data columns (total 3 columns):\n",
            " #   Column        Non-Null Count  Dtype  \n",
            "---  ------        --------------  -----  \n",
            " 0   USER_ID       10000 non-null  int64  \n",
            " 1   VARIANT_NAME  10000 non-null  object \n",
            " 2   REVENUE       10000 non-null  float64\n",
            "dtypes: float64(1), int64(1), object(1)\n",
            "memory usage: 234.5+ KB\n"
          ]
        }
      ]
    },
    {
      "cell_type": "code",
      "source": [
        "df.describe()"
      ],
      "metadata": {
        "colab": {
          "base_uri": "https://localhost:8080/",
          "height": 300
        },
        "id": "DPAtKLCeummE",
        "outputId": "a339e77c-c911-4e8e-dd04-22134970b39f"
      },
      "execution_count": null,
      "outputs": [
        {
          "output_type": "execute_result",
          "data": {
            "text/plain": [
              "            USER_ID       REVENUE\n",
              "count  10000.000000  10000.000000\n",
              "mean    4981.080200      0.099447\n",
              "std     2890.590115      2.318529\n",
              "min        2.000000      0.000000\n",
              "25%     2468.750000      0.000000\n",
              "50%     4962.000000      0.000000\n",
              "75%     7511.500000      0.000000\n",
              "max    10000.000000    196.010000"
            ],
            "text/html": [
              "\n",
              "  <div id=\"df-192f69bc-93c7-4c7f-a9fc-714589df71c4\">\n",
              "    <div class=\"colab-df-container\">\n",
              "      <div>\n",
              "<style scoped>\n",
              "    .dataframe tbody tr th:only-of-type {\n",
              "        vertical-align: middle;\n",
              "    }\n",
              "\n",
              "    .dataframe tbody tr th {\n",
              "        vertical-align: top;\n",
              "    }\n",
              "\n",
              "    .dataframe thead th {\n",
              "        text-align: right;\n",
              "    }\n",
              "</style>\n",
              "<table border=\"1\" class=\"dataframe\">\n",
              "  <thead>\n",
              "    <tr style=\"text-align: right;\">\n",
              "      <th></th>\n",
              "      <th>USER_ID</th>\n",
              "      <th>REVENUE</th>\n",
              "    </tr>\n",
              "  </thead>\n",
              "  <tbody>\n",
              "    <tr>\n",
              "      <th>count</th>\n",
              "      <td>10000.000000</td>\n",
              "      <td>10000.000000</td>\n",
              "    </tr>\n",
              "    <tr>\n",
              "      <th>mean</th>\n",
              "      <td>4981.080200</td>\n",
              "      <td>0.099447</td>\n",
              "    </tr>\n",
              "    <tr>\n",
              "      <th>std</th>\n",
              "      <td>2890.590115</td>\n",
              "      <td>2.318529</td>\n",
              "    </tr>\n",
              "    <tr>\n",
              "      <th>min</th>\n",
              "      <td>2.000000</td>\n",
              "      <td>0.000000</td>\n",
              "    </tr>\n",
              "    <tr>\n",
              "      <th>25%</th>\n",
              "      <td>2468.750000</td>\n",
              "      <td>0.000000</td>\n",
              "    </tr>\n",
              "    <tr>\n",
              "      <th>50%</th>\n",
              "      <td>4962.000000</td>\n",
              "      <td>0.000000</td>\n",
              "    </tr>\n",
              "    <tr>\n",
              "      <th>75%</th>\n",
              "      <td>7511.500000</td>\n",
              "      <td>0.000000</td>\n",
              "    </tr>\n",
              "    <tr>\n",
              "      <th>max</th>\n",
              "      <td>10000.000000</td>\n",
              "      <td>196.010000</td>\n",
              "    </tr>\n",
              "  </tbody>\n",
              "</table>\n",
              "</div>\n",
              "      <button class=\"colab-df-convert\" onclick=\"convertToInteractive('df-192f69bc-93c7-4c7f-a9fc-714589df71c4')\"\n",
              "              title=\"Convert this dataframe to an interactive table.\"\n",
              "              style=\"display:none;\">\n",
              "        \n",
              "  <svg xmlns=\"http://www.w3.org/2000/svg\" height=\"24px\"viewBox=\"0 0 24 24\"\n",
              "       width=\"24px\">\n",
              "    <path d=\"M0 0h24v24H0V0z\" fill=\"none\"/>\n",
              "    <path d=\"M18.56 5.44l.94 2.06.94-2.06 2.06-.94-2.06-.94-.94-2.06-.94 2.06-2.06.94zm-11 1L8.5 8.5l.94-2.06 2.06-.94-2.06-.94L8.5 2.5l-.94 2.06-2.06.94zm10 10l.94 2.06.94-2.06 2.06-.94-2.06-.94-.94-2.06-.94 2.06-2.06.94z\"/><path d=\"M17.41 7.96l-1.37-1.37c-.4-.4-.92-.59-1.43-.59-.52 0-1.04.2-1.43.59L10.3 9.45l-7.72 7.72c-.78.78-.78 2.05 0 2.83L4 21.41c.39.39.9.59 1.41.59.51 0 1.02-.2 1.41-.59l7.78-7.78 2.81-2.81c.8-.78.8-2.07 0-2.86zM5.41 20L4 18.59l7.72-7.72 1.47 1.35L5.41 20z\"/>\n",
              "  </svg>\n",
              "      </button>\n",
              "      \n",
              "  <style>\n",
              "    .colab-df-container {\n",
              "      display:flex;\n",
              "      flex-wrap:wrap;\n",
              "      gap: 12px;\n",
              "    }\n",
              "\n",
              "    .colab-df-convert {\n",
              "      background-color: #E8F0FE;\n",
              "      border: none;\n",
              "      border-radius: 50%;\n",
              "      cursor: pointer;\n",
              "      display: none;\n",
              "      fill: #1967D2;\n",
              "      height: 32px;\n",
              "      padding: 0 0 0 0;\n",
              "      width: 32px;\n",
              "    }\n",
              "\n",
              "    .colab-df-convert:hover {\n",
              "      background-color: #E2EBFA;\n",
              "      box-shadow: 0px 1px 2px rgba(60, 64, 67, 0.3), 0px 1px 3px 1px rgba(60, 64, 67, 0.15);\n",
              "      fill: #174EA6;\n",
              "    }\n",
              "\n",
              "    [theme=dark] .colab-df-convert {\n",
              "      background-color: #3B4455;\n",
              "      fill: #D2E3FC;\n",
              "    }\n",
              "\n",
              "    [theme=dark] .colab-df-convert:hover {\n",
              "      background-color: #434B5C;\n",
              "      box-shadow: 0px 1px 3px 1px rgba(0, 0, 0, 0.15);\n",
              "      filter: drop-shadow(0px 1px 2px rgba(0, 0, 0, 0.3));\n",
              "      fill: #FFFFFF;\n",
              "    }\n",
              "  </style>\n",
              "\n",
              "      <script>\n",
              "        const buttonEl =\n",
              "          document.querySelector('#df-192f69bc-93c7-4c7f-a9fc-714589df71c4 button.colab-df-convert');\n",
              "        buttonEl.style.display =\n",
              "          google.colab.kernel.accessAllowed ? 'block' : 'none';\n",
              "\n",
              "        async function convertToInteractive(key) {\n",
              "          const element = document.querySelector('#df-192f69bc-93c7-4c7f-a9fc-714589df71c4');\n",
              "          const dataTable =\n",
              "            await google.colab.kernel.invokeFunction('convertToInteractive',\n",
              "                                                     [key], {});\n",
              "          if (!dataTable) return;\n",
              "\n",
              "          const docLinkHtml = 'Like what you see? Visit the ' +\n",
              "            '<a target=\"_blank\" href=https://colab.research.google.com/notebooks/data_table.ipynb>data table notebook</a>'\n",
              "            + ' to learn more about interactive tables.';\n",
              "          element.innerHTML = '';\n",
              "          dataTable['output_type'] = 'display_data';\n",
              "          await google.colab.output.renderOutput(dataTable, element);\n",
              "          const docLink = document.createElement('div');\n",
              "          docLink.innerHTML = docLinkHtml;\n",
              "          element.appendChild(docLink);\n",
              "        }\n",
              "      </script>\n",
              "    </div>\n",
              "  </div>\n",
              "  "
            ]
          },
          "metadata": {},
          "execution_count": 97
        }
      ]
    },
    {
      "cell_type": "code",
      "source": [
        "df.isna().sum()"
      ],
      "metadata": {
        "colab": {
          "base_uri": "https://localhost:8080/"
        },
        "id": "6RMVl-vOumpq",
        "outputId": "09293c6f-8aac-4af8-f126-ccc3bc1fe8ba"
      },
      "execution_count": null,
      "outputs": [
        {
          "output_type": "execute_result",
          "data": {
            "text/plain": [
              "USER_ID         0\n",
              "VARIANT_NAME    0\n",
              "REVENUE         0\n",
              "dtype: int64"
            ]
          },
          "metadata": {},
          "execution_count": 98
        }
      ]
    },
    {
      "cell_type": "code",
      "source": [
        "df.VARIANT_NAME.value_counts()"
      ],
      "metadata": {
        "colab": {
          "base_uri": "https://localhost:8080/"
        },
        "id": "3wwTsd3mums4",
        "outputId": "9b1c2894-8bf2-457c-c152-e3bc4d02c496"
      },
      "execution_count": null,
      "outputs": [
        {
          "output_type": "execute_result",
          "data": {
            "text/plain": [
              "variant    5016\n",
              "control    4984\n",
              "Name: VARIANT_NAME, dtype: int64"
            ]
          },
          "metadata": {},
          "execution_count": 99
        }
      ]
    },
    {
      "cell_type": "code",
      "source": [],
      "metadata": {
        "id": "uMHxzhC5u01d"
      },
      "execution_count": null,
      "outputs": []
    },
    {
      "cell_type": "code",
      "source": [
        "#Избавимся от некорретных строк. Посчитаем, сколько типов встречается у каждого пользователя.\n",
        "\n",
        "v = df.\\\n",
        "    groupby('USER_ID', as_index=False).\\\n",
        "    agg({'VARIANT_NAME': pd.Series.nunique})"
      ],
      "metadata": {
        "id": "7f_B-4Vuu04I"
      },
      "execution_count": null,
      "outputs": []
    },
    {
      "cell_type": "code",
      "source": [
        "v.head(10)"
      ],
      "metadata": {
        "colab": {
          "base_uri": "https://localhost:8080/",
          "height": 363
        },
        "id": "5cA0uBmBu064",
        "outputId": "71c4d46d-6b06-42aa-b7c2-1f3934e14f65"
      },
      "execution_count": null,
      "outputs": [
        {
          "output_type": "execute_result",
          "data": {
            "text/plain": [
              "   USER_ID  VARIANT_NAME\n",
              "0        2             1\n",
              "1        3             2\n",
              "2        4             1\n",
              "3        5             1\n",
              "4        6             1\n",
              "5        9             1\n",
              "6       10             2\n",
              "7       11             1\n",
              "8       12             1\n",
              "9       13             1"
            ],
            "text/html": [
              "\n",
              "  <div id=\"df-e192e9e4-cf13-4a2a-a326-59fc84eb08de\">\n",
              "    <div class=\"colab-df-container\">\n",
              "      <div>\n",
              "<style scoped>\n",
              "    .dataframe tbody tr th:only-of-type {\n",
              "        vertical-align: middle;\n",
              "    }\n",
              "\n",
              "    .dataframe tbody tr th {\n",
              "        vertical-align: top;\n",
              "    }\n",
              "\n",
              "    .dataframe thead th {\n",
              "        text-align: right;\n",
              "    }\n",
              "</style>\n",
              "<table border=\"1\" class=\"dataframe\">\n",
              "  <thead>\n",
              "    <tr style=\"text-align: right;\">\n",
              "      <th></th>\n",
              "      <th>USER_ID</th>\n",
              "      <th>VARIANT_NAME</th>\n",
              "    </tr>\n",
              "  </thead>\n",
              "  <tbody>\n",
              "    <tr>\n",
              "      <th>0</th>\n",
              "      <td>2</td>\n",
              "      <td>1</td>\n",
              "    </tr>\n",
              "    <tr>\n",
              "      <th>1</th>\n",
              "      <td>3</td>\n",
              "      <td>2</td>\n",
              "    </tr>\n",
              "    <tr>\n",
              "      <th>2</th>\n",
              "      <td>4</td>\n",
              "      <td>1</td>\n",
              "    </tr>\n",
              "    <tr>\n",
              "      <th>3</th>\n",
              "      <td>5</td>\n",
              "      <td>1</td>\n",
              "    </tr>\n",
              "    <tr>\n",
              "      <th>4</th>\n",
              "      <td>6</td>\n",
              "      <td>1</td>\n",
              "    </tr>\n",
              "    <tr>\n",
              "      <th>5</th>\n",
              "      <td>9</td>\n",
              "      <td>1</td>\n",
              "    </tr>\n",
              "    <tr>\n",
              "      <th>6</th>\n",
              "      <td>10</td>\n",
              "      <td>2</td>\n",
              "    </tr>\n",
              "    <tr>\n",
              "      <th>7</th>\n",
              "      <td>11</td>\n",
              "      <td>1</td>\n",
              "    </tr>\n",
              "    <tr>\n",
              "      <th>8</th>\n",
              "      <td>12</td>\n",
              "      <td>1</td>\n",
              "    </tr>\n",
              "    <tr>\n",
              "      <th>9</th>\n",
              "      <td>13</td>\n",
              "      <td>1</td>\n",
              "    </tr>\n",
              "  </tbody>\n",
              "</table>\n",
              "</div>\n",
              "      <button class=\"colab-df-convert\" onclick=\"convertToInteractive('df-e192e9e4-cf13-4a2a-a326-59fc84eb08de')\"\n",
              "              title=\"Convert this dataframe to an interactive table.\"\n",
              "              style=\"display:none;\">\n",
              "        \n",
              "  <svg xmlns=\"http://www.w3.org/2000/svg\" height=\"24px\"viewBox=\"0 0 24 24\"\n",
              "       width=\"24px\">\n",
              "    <path d=\"M0 0h24v24H0V0z\" fill=\"none\"/>\n",
              "    <path d=\"M18.56 5.44l.94 2.06.94-2.06 2.06-.94-2.06-.94-.94-2.06-.94 2.06-2.06.94zm-11 1L8.5 8.5l.94-2.06 2.06-.94-2.06-.94L8.5 2.5l-.94 2.06-2.06.94zm10 10l.94 2.06.94-2.06 2.06-.94-2.06-.94-.94-2.06-.94 2.06-2.06.94z\"/><path d=\"M17.41 7.96l-1.37-1.37c-.4-.4-.92-.59-1.43-.59-.52 0-1.04.2-1.43.59L10.3 9.45l-7.72 7.72c-.78.78-.78 2.05 0 2.83L4 21.41c.39.39.9.59 1.41.59.51 0 1.02-.2 1.41-.59l7.78-7.78 2.81-2.81c.8-.78.8-2.07 0-2.86zM5.41 20L4 18.59l7.72-7.72 1.47 1.35L5.41 20z\"/>\n",
              "  </svg>\n",
              "      </button>\n",
              "      \n",
              "  <style>\n",
              "    .colab-df-container {\n",
              "      display:flex;\n",
              "      flex-wrap:wrap;\n",
              "      gap: 12px;\n",
              "    }\n",
              "\n",
              "    .colab-df-convert {\n",
              "      background-color: #E8F0FE;\n",
              "      border: none;\n",
              "      border-radius: 50%;\n",
              "      cursor: pointer;\n",
              "      display: none;\n",
              "      fill: #1967D2;\n",
              "      height: 32px;\n",
              "      padding: 0 0 0 0;\n",
              "      width: 32px;\n",
              "    }\n",
              "\n",
              "    .colab-df-convert:hover {\n",
              "      background-color: #E2EBFA;\n",
              "      box-shadow: 0px 1px 2px rgba(60, 64, 67, 0.3), 0px 1px 3px 1px rgba(60, 64, 67, 0.15);\n",
              "      fill: #174EA6;\n",
              "    }\n",
              "\n",
              "    [theme=dark] .colab-df-convert {\n",
              "      background-color: #3B4455;\n",
              "      fill: #D2E3FC;\n",
              "    }\n",
              "\n",
              "    [theme=dark] .colab-df-convert:hover {\n",
              "      background-color: #434B5C;\n",
              "      box-shadow: 0px 1px 3px 1px rgba(0, 0, 0, 0.15);\n",
              "      filter: drop-shadow(0px 1px 2px rgba(0, 0, 0, 0.3));\n",
              "      fill: #FFFFFF;\n",
              "    }\n",
              "  </style>\n",
              "\n",
              "      <script>\n",
              "        const buttonEl =\n",
              "          document.querySelector('#df-e192e9e4-cf13-4a2a-a326-59fc84eb08de button.colab-df-convert');\n",
              "        buttonEl.style.display =\n",
              "          google.colab.kernel.accessAllowed ? 'block' : 'none';\n",
              "\n",
              "        async function convertToInteractive(key) {\n",
              "          const element = document.querySelector('#df-e192e9e4-cf13-4a2a-a326-59fc84eb08de');\n",
              "          const dataTable =\n",
              "            await google.colab.kernel.invokeFunction('convertToInteractive',\n",
              "                                                     [key], {});\n",
              "          if (!dataTable) return;\n",
              "\n",
              "          const docLinkHtml = 'Like what you see? Visit the ' +\n",
              "            '<a target=\"_blank\" href=https://colab.research.google.com/notebooks/data_table.ipynb>data table notebook</a>'\n",
              "            + ' to learn more about interactive tables.';\n",
              "          element.innerHTML = '';\n",
              "          dataTable['output_type'] = 'display_data';\n",
              "          await google.colab.output.renderOutput(dataTable, element);\n",
              "          const docLink = document.createElement('div');\n",
              "          docLink.innerHTML = docLinkHtml;\n",
              "          element.appendChild(docLink);\n",
              "        }\n",
              "      </script>\n",
              "    </div>\n",
              "  </div>\n",
              "  "
            ]
          },
          "metadata": {},
          "execution_count": 101
        }
      ]
    },
    {
      "cell_type": "code",
      "source": [
        "more_than_one_types = variants.query('VARIANT_NAME > 1')"
      ],
      "metadata": {
        "id": "LWYKdIoMu09g",
        "colab": {
          "base_uri": "https://localhost:8080/",
          "height": 165
        },
        "outputId": "2628c5b4-9f30-4ae5-873a-d57e52da89ec"
      },
      "execution_count": null,
      "outputs": [
        {
          "output_type": "error",
          "ename": "NameError",
          "evalue": "ignored",
          "traceback": [
            "\u001b[0;31m---------------------------------------------------------------------------\u001b[0m",
            "\u001b[0;31mNameError\u001b[0m                                 Traceback (most recent call last)",
            "\u001b[0;32m<ipython-input-102-3b2adbb71cf3>\u001b[0m in \u001b[0;36m<module>\u001b[0;34m\u001b[0m\n\u001b[0;32m----> 1\u001b[0;31m \u001b[0mmore_than_one_types\u001b[0m \u001b[0;34m=\u001b[0m \u001b[0mvariants\u001b[0m\u001b[0;34m.\u001b[0m\u001b[0mquery\u001b[0m\u001b[0;34m(\u001b[0m\u001b[0;34m'VARIANT_NAME > 1'\u001b[0m\u001b[0;34m)\u001b[0m\u001b[0;34m\u001b[0m\u001b[0;34m\u001b[0m\u001b[0m\n\u001b[0m",
            "\u001b[0;31mNameError\u001b[0m: name 'variants' is not defined"
          ]
        }
      ]
    },
    {
      "cell_type": "code",
      "source": [
        "df_new = df[~df.USER_ID.isin(more_than_one_types.USER_ID)].sort_values('USER_ID')"
      ],
      "metadata": {
        "id": "fxR7Nx1yu1Ak"
      },
      "execution_count": null,
      "outputs": []
    },
    {
      "cell_type": "code",
      "source": [
        "df_new.shape"
      ],
      "metadata": {
        "id": "Np7mRvqPu1C0"
      },
      "execution_count": null,
      "outputs": []
    },
    {
      "cell_type": "code",
      "source": [
        "df.shape"
      ],
      "metadata": {
        "id": "UhpI_GXau1Fj"
      },
      "execution_count": null,
      "outputs": []
    },
    {
      "cell_type": "code",
      "source": [
        "control = df1.query('VARIANT_NAME == \"control\"')\n",
        "\n",
        "test = df1.query('VARIANT_NAME == \"variant\"')"
      ],
      "metadata": {
        "id": "sXo1E9sYu1IK"
      },
      "execution_count": null,
      "outputs": []
    },
    {
      "cell_type": "code",
      "source": [
        "len(control)"
      ],
      "metadata": {
        "id": "MFlwX1Mqu1K-"
      },
      "execution_count": null,
      "outputs": []
    },
    {
      "cell_type": "code",
      "source": [
        "len(test)"
      ],
      "metadata": {
        "id": "Kd4QRHjeu1OZ"
      },
      "execution_count": null,
      "outputs": []
    },
    {
      "cell_type": "code",
      "source": [
        "from scipy.stats import shapiro"
      ],
      "metadata": {
        "id": "IUyavty6wikz"
      },
      "execution_count": null,
      "outputs": []
    },
    {
      "cell_type": "code",
      "source": [
        "alpha = 0.05\n",
        "\n",
        "st = shapiro(df.REVENUE)\n",
        "print('Distribution is {}normal\\n'.format( {True:'not ',\n",
        "False:''}[st[1] < alpha]));"
      ],
      "metadata": {
        "id": "7Ra87JjYwinY"
      },
      "execution_count": null,
      "outputs": []
    },
    {
      "cell_type": "code",
      "source": [
        "control.REVENUE.hist(bins = 25, alpha =0.7, label='Control')\n",
        "test.REVENUE.hist(bins = 25, alpha =0.7, label='Test')\n",
        "plt.title('Доход на юзера по группам')\n",
        "plt.xlabel('Доход')\n",
        "plt.ylabel('Число пользователей')\n",
        "plt.legend();"
      ],
      "metadata": {
        "id": "PFgA7Auuwiqb"
      },
      "execution_count": null,
      "outputs": []
    },
    {
      "cell_type": "code",
      "source": [
        "plt.boxplot([control.REVENUE,test.REVENUE],\n",
        "            labels=['Контроль','Тест'],\n",
        "            widths=0.5\n",
        "           )\n",
        "plt.title('Boxplot по пользователям',  loc='center')\n",
        "plt.grid(axis  ='both')"
      ],
      "metadata": {
        "id": "f78unW4OxbqI"
      },
      "execution_count": null,
      "outputs": []
    },
    {
      "cell_type": "code",
      "source": [],
      "metadata": {
        "id": "UJIDWr44xbsw"
      },
      "execution_count": null,
      "outputs": []
    },
    {
      "cell_type": "code",
      "source": [
        "stats.ttest_ind(control.REVENUE.values, test.REVENUE.values, equal_var = False)"
      ],
      "metadata": {
        "id": "NUiBcfeFxbvc"
      },
      "execution_count": null,
      "outputs": []
    },
    {
      "cell_type": "code",
      "source": [],
      "metadata": {
        "id": "gqQp5jWPy_du"
      },
      "execution_count": null,
      "outputs": []
    },
    {
      "cell_type": "markdown",
      "source": [
        "##Расчет мощности\n"
      ],
      "metadata": {
        "id": "YgABPXzRGvxG"
      }
    },
    {
      "cell_type": "markdown",
      "source": [
        "d = (M1 – M2) / S_pooled\n",
        "\n",
        "\n",
        "\n",
        "\n"
      ],
      "metadata": {
        "id": "7iaqh9kzDHDX"
      }
    },
    {
      "cell_type": "markdown",
      "source": [
        "## S_pooled ="
      ],
      "metadata": {
        "id": "O0vO78LeDo-V"
      }
    },
    {
      "cell_type": "markdown",
      "source": [
        "  ![Снимок экрана 2022-08-09 в 22.21.17.png](data:image/png;base64,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)"
      ],
      "metadata": {
        "id": "O_3obptBDWNx"
      }
    },
    {
      "cell_type": "markdown",
      "source": [
        "![cohens-d-hypothesized-mean-difference.webp](data:image/webp;base64,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)"
      ],
      "metadata": {
        "id": "4rmmcxiyC8Rt"
      }
    },
    {
      "cell_type": "code",
      "source": [],
      "metadata": {
        "id": "LF846I5yy_gd"
      },
      "execution_count": null,
      "outputs": []
    },
    {
      "cell_type": "code",
      "source": [
        "C_mean = control.REVENUE.values.mean()\n",
        "\n",
        "T_mean = test.REVENUE.values.mean()\n",
        "\n",
        "\n",
        "C_std = control.REVENUE.values.std()\n",
        "\n",
        "T_std = test.REVENUE.values.std()"
      ],
      "metadata": {
        "id": "M7TJrx6jD1q8"
      },
      "execution_count": null,
      "outputs": []
    },
    {
      "cell_type": "code",
      "source": [
        "print(len(control.REVENUE.values), len(test.REVENUE.values))"
      ],
      "metadata": {
        "id": "o6jkrvmvFEtJ"
      },
      "execution_count": null,
      "outputs": []
    },
    {
      "cell_type": "code",
      "source": [
        "n =  len(control.REVENUE.values)"
      ],
      "metadata": {
        "id": "YCEoDJWEFEzj"
      },
      "execution_count": null,
      "outputs": []
    },
    {
      "cell_type": "code",
      "source": [
        "##S = np.sqrt((sd_t**2 / n_t) + (sd_c**2 / n_c))\n",
        "\n",
        "S = np.sqrt((T_std**2 + C_std **2)/ 2)"
      ],
      "metadata": {
        "id": "SCL3ZIaID1uG"
      },
      "execution_count": null,
      "outputs": []
    },
    {
      "cell_type": "code",
      "source": [
        "ef =float((T_mean-C_mean)/ S) "
      ],
      "metadata": {
        "id": "mNUISzqsExWT"
      },
      "execution_count": null,
      "outputs": []
    },
    {
      "cell_type": "code",
      "source": [
        "# parameters for power analysis\n",
        "\n",
        "alpha = 0.05\n",
        "\n",
        "# perform power analysis\n",
        "analysis = TTestIndPower()\n",
        "result = analysis.solve_power(effect, power=None,\n",
        "nobs1=n, ratio=1.0, alpha=alpha)\n",
        "\n",
        "result"
      ],
      "metadata": {
        "id": "JGlkViNQxbyI"
      },
      "execution_count": null,
      "outputs": []
    },
    {
      "cell_type": "code",
      "source": [],
      "metadata": {
        "id": "5JVieC3uGhWU"
      },
      "execution_count": null,
      "outputs": []
    }
  ],
  "metadata": {
    "kernelspec": {
      "display_name": "Python 3",
      "language": "python",
      "name": "python3"
    },
    "language_info": {
      "codemirror_mode": {
        "name": "ipython",
        "version": 3
      },
      "file_extension": ".py",
      "mimetype": "text/x-python",
      "name": "python",
      "nbconvert_exporter": "python",
      "pygments_lexer": "ipython3",
      "version": "3.7.10"
    },
    "colab": {
      "provenance": [],
      "toc_visible": true,
      "include_colab_link": true
    }
  },
  "nbformat": 4,
  "nbformat_minor": 0
}